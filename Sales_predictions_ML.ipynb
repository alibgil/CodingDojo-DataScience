{
  "nbformat": 4,
  "nbformat_minor": 0,
  "metadata": {
    "colab": {
      "provenance": [],
      "mount_file_id": "1zsdNSbmhqoxmiXgA6CBvlQvMsITn9HTH",
      "authorship_tag": "ABX9TyMOGsbB0GK66Z2gYLdRnflj",
      "include_colab_link": true
    },
    "kernelspec": {
      "name": "python3",
      "display_name": "Python 3"
    },
    "language_info": {
      "name": "python"
    }
  },
  "cells": [
    {
      "cell_type": "markdown",
      "metadata": {
        "id": "view-in-github",
        "colab_type": "text"
      },
      "source": [
        "<a href=\"https://colab.research.google.com/github/alibgil/CodingDojo-DataScience/blob/main/Sales_predictions_ML.ipynb\" target=\"_parent\"><img src=\"https://colab.research.google.com/assets/colab-badge.svg\" alt=\"Open In Colab\"/></a>"
      ]
    },
    {
      "cell_type": "markdown",
      "source": [
        "# **Predicción de ventas**"
      ],
      "metadata": {
        "id": "fg060NsWYm-f"
      }
    },
    {
      "cell_type": "markdown",
      "source": [
        "![download.jfif](data:image/jpeg;base64,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)"
      ],
      "metadata": {
        "id": "50IJI82rxEPf"
      }
    },
    {
      "cell_type": "markdown",
      "source": [
        "Predicción de ventas para productos alimenticios vendidos en diversas tiendas.  El objetivo de esto es ayudar al minorista a comprender las propiedades de los productos y los puntos de venta que desempeñan un papel crucial en el aumento de las ventas."
      ],
      "metadata": {
        "id": "8ENzhk26YwZo"
      }
    },
    {
      "cell_type": "markdown",
      "source": [
        "| Nombre de la variable     | Descripción                                                                                                           |\n",
        "|---------------------------|-----------------------------------------------------------------------------------------------------------------------|\n",
        "| Item_Identifier           | Identificación única del producto                                                                                     |\n",
        "| Item_Weight               | Peso del producto                                                                                                     |\n",
        "| Item_Fat_Content          | Si el producto es bajo en grasa o regular                                                                             |\n",
        "| Item_Visibility           | El porcentaje de la superficie total de exposición de todos los productos de una tienda asignada al producto concreto |\n",
        "| Item_Type                 | La categoría a la que el producto pertenece                                                                           |\n",
        "| Item_MRP                  | Precio máximo de venta al público (precio de catálogo) del producto                                                   |\n",
        "| Outlet_Identifier         | Identificación única de la tienda                                                                                     |\n",
        "| Outlet_Establishment_Year | El año cuando se estableció la tienda                                                                                 |\n",
        "| Outlet_Size               | El tamaño de la tienda con respecto a la superficie                                                                   |\n",
        "| Outlet_Location_Type      | El tipo de área donde está ubicada la tienda                                                                          |\n",
        "| Outlet_Type               | Si el marcado es un almacén o algún tipo de supermercado                                                              |\n",
        "| Item_Outlet_Sales         | Ventas del producto en la tienda particular Es la variable objetivo a predecir                                        |"
      ],
      "metadata": {
        "id": "zVX2WZpTSEbU"
      }
    },
    {
      "cell_type": "code",
      "source": [
        "#Librerías\n",
        "import pandas as pd\n",
        "import numpy as np\n",
        "from sklearn.preprocessing import StandardScaler, OneHotEncoder\n",
        "from sklearn.impute import SimpleImputer\n",
        "from sklearn.compose import make_column_transformer, make_column_selector\n",
        "from sklearn.pipeline import make_pipeline\n",
        "from sklearn.model_selection import train_test_split\n",
        "from sklearn import set_config\n",
        "set_config(display='diagram')\n",
        "\n",
        "from sklearn.linear_model import LinearRegression\n",
        "from sklearn.metrics import r2_score\n",
        "from sklearn.metrics import mean_absolute_error\n",
        "from sklearn.metrics import mean_squared_error\n",
        "\n",
        "from sklearn.tree import DecisionTreeRegressor"
      ],
      "metadata": {
        "id": "MGZUeEftW_Ko"
      },
      "execution_count": 85,
      "outputs": []
    },
    {
      "cell_type": "code",
      "execution_count": 35,
      "metadata": {
        "colab": {
          "base_uri": "https://localhost:8080/",
          "height": 224
        },
        "id": "h7uCvSBt1Z5s",
        "outputId": "fff2ccf9-7d3f-4b14-c399-614a3a1d9067"
      },
      "outputs": [
        {
          "output_type": "stream",
          "name": "stdout",
          "text": [
            "Drive already mounted at /content/drive; to attempt to forcibly remount, call drive.mount(\"/content/drive\", force_remount=True).\n"
          ]
        },
        {
          "output_type": "execute_result",
          "data": {
            "text/plain": [
              "  Item_Identifier  Item_Weight Item_Fat_Content  Item_Visibility  \\\n",
              "0           FDA15         9.30          Low Fat         0.016047   \n",
              "1           DRC01         5.92          Regular         0.019278   \n",
              "2           FDN15        17.50          Low Fat         0.016760   \n",
              "3           FDX07        19.20          Regular         0.000000   \n",
              "4           NCD19         8.93          Low Fat         0.000000   \n",
              "\n",
              "               Item_Type  Item_MRP Outlet_Identifier  \\\n",
              "0                  Dairy  249.8092            OUT049   \n",
              "1            Soft Drinks   48.2692            OUT018   \n",
              "2                   Meat  141.6180            OUT049   \n",
              "3  Fruits and Vegetables  182.0950            OUT010   \n",
              "4              Household   53.8614            OUT013   \n",
              "\n",
              "   Outlet_Establishment_Year Outlet_Size Outlet_Location_Type  \\\n",
              "0                       1999      Medium               Tier 1   \n",
              "1                       2009      Medium               Tier 3   \n",
              "2                       1999      Medium               Tier 1   \n",
              "3                       1998         NaN               Tier 3   \n",
              "4                       1987        High               Tier 3   \n",
              "\n",
              "         Outlet_Type  Item_Outlet_Sales  \n",
              "0  Supermarket Type1          3735.1380  \n",
              "1  Supermarket Type2           443.4228  \n",
              "2  Supermarket Type1          2097.2700  \n",
              "3      Grocery Store           732.3800  \n",
              "4  Supermarket Type1           994.7052  "
            ],
            "text/html": [
              "\n",
              "  <div id=\"df-1154826c-a73c-464d-a769-23a6e5ef2dbf\">\n",
              "    <div class=\"colab-df-container\">\n",
              "      <div>\n",
              "<style scoped>\n",
              "    .dataframe tbody tr th:only-of-type {\n",
              "        vertical-align: middle;\n",
              "    }\n",
              "\n",
              "    .dataframe tbody tr th {\n",
              "        vertical-align: top;\n",
              "    }\n",
              "\n",
              "    .dataframe thead th {\n",
              "        text-align: right;\n",
              "    }\n",
              "</style>\n",
              "<table border=\"1\" class=\"dataframe\">\n",
              "  <thead>\n",
              "    <tr style=\"text-align: right;\">\n",
              "      <th></th>\n",
              "      <th>Item_Identifier</th>\n",
              "      <th>Item_Weight</th>\n",
              "      <th>Item_Fat_Content</th>\n",
              "      <th>Item_Visibility</th>\n",
              "      <th>Item_Type</th>\n",
              "      <th>Item_MRP</th>\n",
              "      <th>Outlet_Identifier</th>\n",
              "      <th>Outlet_Establishment_Year</th>\n",
              "      <th>Outlet_Size</th>\n",
              "      <th>Outlet_Location_Type</th>\n",
              "      <th>Outlet_Type</th>\n",
              "      <th>Item_Outlet_Sales</th>\n",
              "    </tr>\n",
              "  </thead>\n",
              "  <tbody>\n",
              "    <tr>\n",
              "      <th>0</th>\n",
              "      <td>FDA15</td>\n",
              "      <td>9.30</td>\n",
              "      <td>Low Fat</td>\n",
              "      <td>0.016047</td>\n",
              "      <td>Dairy</td>\n",
              "      <td>249.8092</td>\n",
              "      <td>OUT049</td>\n",
              "      <td>1999</td>\n",
              "      <td>Medium</td>\n",
              "      <td>Tier 1</td>\n",
              "      <td>Supermarket Type1</td>\n",
              "      <td>3735.1380</td>\n",
              "    </tr>\n",
              "    <tr>\n",
              "      <th>1</th>\n",
              "      <td>DRC01</td>\n",
              "      <td>5.92</td>\n",
              "      <td>Regular</td>\n",
              "      <td>0.019278</td>\n",
              "      <td>Soft Drinks</td>\n",
              "      <td>48.2692</td>\n",
              "      <td>OUT018</td>\n",
              "      <td>2009</td>\n",
              "      <td>Medium</td>\n",
              "      <td>Tier 3</td>\n",
              "      <td>Supermarket Type2</td>\n",
              "      <td>443.4228</td>\n",
              "    </tr>\n",
              "    <tr>\n",
              "      <th>2</th>\n",
              "      <td>FDN15</td>\n",
              "      <td>17.50</td>\n",
              "      <td>Low Fat</td>\n",
              "      <td>0.016760</td>\n",
              "      <td>Meat</td>\n",
              "      <td>141.6180</td>\n",
              "      <td>OUT049</td>\n",
              "      <td>1999</td>\n",
              "      <td>Medium</td>\n",
              "      <td>Tier 1</td>\n",
              "      <td>Supermarket Type1</td>\n",
              "      <td>2097.2700</td>\n",
              "    </tr>\n",
              "    <tr>\n",
              "      <th>3</th>\n",
              "      <td>FDX07</td>\n",
              "      <td>19.20</td>\n",
              "      <td>Regular</td>\n",
              "      <td>0.000000</td>\n",
              "      <td>Fruits and Vegetables</td>\n",
              "      <td>182.0950</td>\n",
              "      <td>OUT010</td>\n",
              "      <td>1998</td>\n",
              "      <td>NaN</td>\n",
              "      <td>Tier 3</td>\n",
              "      <td>Grocery Store</td>\n",
              "      <td>732.3800</td>\n",
              "    </tr>\n",
              "    <tr>\n",
              "      <th>4</th>\n",
              "      <td>NCD19</td>\n",
              "      <td>8.93</td>\n",
              "      <td>Low Fat</td>\n",
              "      <td>0.000000</td>\n",
              "      <td>Household</td>\n",
              "      <td>53.8614</td>\n",
              "      <td>OUT013</td>\n",
              "      <td>1987</td>\n",
              "      <td>High</td>\n",
              "      <td>Tier 3</td>\n",
              "      <td>Supermarket Type1</td>\n",
              "      <td>994.7052</td>\n",
              "    </tr>\n",
              "  </tbody>\n",
              "</table>\n",
              "</div>\n",
              "      <button class=\"colab-df-convert\" onclick=\"convertToInteractive('df-1154826c-a73c-464d-a769-23a6e5ef2dbf')\"\n",
              "              title=\"Convert this dataframe to an interactive table.\"\n",
              "              style=\"display:none;\">\n",
              "        \n",
              "  <svg xmlns=\"http://www.w3.org/2000/svg\" height=\"24px\"viewBox=\"0 0 24 24\"\n",
              "       width=\"24px\">\n",
              "    <path d=\"M0 0h24v24H0V0z\" fill=\"none\"/>\n",
              "    <path d=\"M18.56 5.44l.94 2.06.94-2.06 2.06-.94-2.06-.94-.94-2.06-.94 2.06-2.06.94zm-11 1L8.5 8.5l.94-2.06 2.06-.94-2.06-.94L8.5 2.5l-.94 2.06-2.06.94zm10 10l.94 2.06.94-2.06 2.06-.94-2.06-.94-.94-2.06-.94 2.06-2.06.94z\"/><path d=\"M17.41 7.96l-1.37-1.37c-.4-.4-.92-.59-1.43-.59-.52 0-1.04.2-1.43.59L10.3 9.45l-7.72 7.72c-.78.78-.78 2.05 0 2.83L4 21.41c.39.39.9.59 1.41.59.51 0 1.02-.2 1.41-.59l7.78-7.78 2.81-2.81c.8-.78.8-2.07 0-2.86zM5.41 20L4 18.59l7.72-7.72 1.47 1.35L5.41 20z\"/>\n",
              "  </svg>\n",
              "      </button>\n",
              "      \n",
              "  <style>\n",
              "    .colab-df-container {\n",
              "      display:flex;\n",
              "      flex-wrap:wrap;\n",
              "      gap: 12px;\n",
              "    }\n",
              "\n",
              "    .colab-df-convert {\n",
              "      background-color: #E8F0FE;\n",
              "      border: none;\n",
              "      border-radius: 50%;\n",
              "      cursor: pointer;\n",
              "      display: none;\n",
              "      fill: #1967D2;\n",
              "      height: 32px;\n",
              "      padding: 0 0 0 0;\n",
              "      width: 32px;\n",
              "    }\n",
              "\n",
              "    .colab-df-convert:hover {\n",
              "      background-color: #E2EBFA;\n",
              "      box-shadow: 0px 1px 2px rgba(60, 64, 67, 0.3), 0px 1px 3px 1px rgba(60, 64, 67, 0.15);\n",
              "      fill: #174EA6;\n",
              "    }\n",
              "\n",
              "    [theme=dark] .colab-df-convert {\n",
              "      background-color: #3B4455;\n",
              "      fill: #D2E3FC;\n",
              "    }\n",
              "\n",
              "    [theme=dark] .colab-df-convert:hover {\n",
              "      background-color: #434B5C;\n",
              "      box-shadow: 0px 1px 3px 1px rgba(0, 0, 0, 0.15);\n",
              "      filter: drop-shadow(0px 1px 2px rgba(0, 0, 0, 0.3));\n",
              "      fill: #FFFFFF;\n",
              "    }\n",
              "  </style>\n",
              "\n",
              "      <script>\n",
              "        const buttonEl =\n",
              "          document.querySelector('#df-1154826c-a73c-464d-a769-23a6e5ef2dbf button.colab-df-convert');\n",
              "        buttonEl.style.display =\n",
              "          google.colab.kernel.accessAllowed ? 'block' : 'none';\n",
              "\n",
              "        async function convertToInteractive(key) {\n",
              "          const element = document.querySelector('#df-1154826c-a73c-464d-a769-23a6e5ef2dbf');\n",
              "          const dataTable =\n",
              "            await google.colab.kernel.invokeFunction('convertToInteractive',\n",
              "                                                     [key], {});\n",
              "          if (!dataTable) return;\n",
              "\n",
              "          const docLinkHtml = 'Like what you see? Visit the ' +\n",
              "            '<a target=\"_blank\" href=https://colab.research.google.com/notebooks/data_table.ipynb>data table notebook</a>'\n",
              "            + ' to learn more about interactive tables.';\n",
              "          element.innerHTML = '';\n",
              "          dataTable['output_type'] = 'display_data';\n",
              "          await google.colab.output.renderOutput(dataTable, element);\n",
              "          const docLink = document.createElement('div');\n",
              "          docLink.innerHTML = docLinkHtml;\n",
              "          element.appendChild(docLink);\n",
              "        }\n",
              "      </script>\n",
              "    </div>\n",
              "  </div>\n",
              "  "
            ]
          },
          "metadata": {},
          "execution_count": 35
        }
      ],
      "source": [
        "#Base de datos\n",
        "from google.colab import drive\n",
        "drive.mount('/content/drive')\n",
        "\n",
        "filename= '/content/drive/MyDrive/BootCamp/sales_predictions.csv'\n",
        "\n",
        "df = pd.read_csv(filename)\n",
        "df.head()"
      ]
    },
    {
      "cell_type": "markdown",
      "source": [
        "### I.- Análisis Exploratorio"
      ],
      "metadata": {
        "id": "GbrMKmYRaALH"
      }
    },
    {
      "cell_type": "markdown",
      "source": [
        "**Manipulación de datos**"
      ],
      "metadata": {
        "id": "nruMKq-T__lP"
      }
    },
    {
      "cell_type": "code",
      "source": [
        "#inspect the data\n",
        "print(df.info(), '\\n')\n",
        "print(df.isna().sum())"
      ],
      "metadata": {
        "id": "UK2t91q6-LKD",
        "outputId": "4263a3fa-25a6-4d45-b5b5-a04fc98d0f3e",
        "colab": {
          "base_uri": "https://localhost:8080/"
        }
      },
      "execution_count": 36,
      "outputs": [
        {
          "output_type": "stream",
          "name": "stdout",
          "text": [
            "<class 'pandas.core.frame.DataFrame'>\n",
            "RangeIndex: 8523 entries, 0 to 8522\n",
            "Data columns (total 12 columns):\n",
            " #   Column                     Non-Null Count  Dtype  \n",
            "---  ------                     --------------  -----  \n",
            " 0   Item_Identifier            8523 non-null   object \n",
            " 1   Item_Weight                7060 non-null   float64\n",
            " 2   Item_Fat_Content           8523 non-null   object \n",
            " 3   Item_Visibility            8523 non-null   float64\n",
            " 4   Item_Type                  8523 non-null   object \n",
            " 5   Item_MRP                   8523 non-null   float64\n",
            " 6   Outlet_Identifier          8523 non-null   object \n",
            " 7   Outlet_Establishment_Year  8523 non-null   int64  \n",
            " 8   Outlet_Size                6113 non-null   object \n",
            " 9   Outlet_Location_Type       8523 non-null   object \n",
            " 10  Outlet_Type                8523 non-null   object \n",
            " 11  Item_Outlet_Sales          8523 non-null   float64\n",
            "dtypes: float64(4), int64(1), object(7)\n",
            "memory usage: 799.2+ KB\n",
            "None \n",
            "\n",
            "Item_Identifier                 0\n",
            "Item_Weight                  1463\n",
            "Item_Fat_Content                0\n",
            "Item_Visibility                 0\n",
            "Item_Type                       0\n",
            "Item_MRP                        0\n",
            "Outlet_Identifier               0\n",
            "Outlet_Establishment_Year       0\n",
            "Outlet_Size                  2410\n",
            "Outlet_Location_Type            0\n",
            "Outlet_Type                     0\n",
            "Item_Outlet_Sales               0\n",
            "dtype: int64\n"
          ]
        }
      ]
    },
    {
      "cell_type": "markdown",
      "source": [
        "Podemos ver una mezcla de tipos de datos con datos faltantes en columnas flotantes y columnas de objetos."
      ],
      "metadata": {
        "id": "LBN1bPycT0Ge"
      }
    },
    {
      "cell_type": "code",
      "source": [
        "#Identificación categorías\n",
        "cat_var = [key for key in dict(df.dtypes) if dict(df.dtypes)[key] in ['object'] ]\n",
        "for cat in cat_var:\n",
        "  print(df[cat].value_counts())"
      ],
      "metadata": {
        "colab": {
          "base_uri": "https://localhost:8080/"
        },
        "id": "dYSzdjTbToxe",
        "outputId": "304e8c22-4a12-456e-f595-c0b7e24e0760"
      },
      "execution_count": 37,
      "outputs": [
        {
          "output_type": "stream",
          "name": "stdout",
          "text": [
            "FDW13    10\n",
            "FDG33    10\n",
            "NCY18     9\n",
            "FDD38     9\n",
            "DRE49     9\n",
            "         ..\n",
            "FDY43     1\n",
            "FDQ60     1\n",
            "FDO33     1\n",
            "DRF48     1\n",
            "FDC23     1\n",
            "Name: Item_Identifier, Length: 1559, dtype: int64\n",
            "Low Fat    5089\n",
            "Regular    2889\n",
            "LF          316\n",
            "reg         117\n",
            "low fat     112\n",
            "Name: Item_Fat_Content, dtype: int64\n",
            "Fruits and Vegetables    1232\n",
            "Snack Foods              1200\n",
            "Household                 910\n",
            "Frozen Foods              856\n",
            "Dairy                     682\n",
            "Canned                    649\n",
            "Baking Goods              648\n",
            "Health and Hygiene        520\n",
            "Soft Drinks               445\n",
            "Meat                      425\n",
            "Breads                    251\n",
            "Hard Drinks               214\n",
            "Others                    169\n",
            "Starchy Foods             148\n",
            "Breakfast                 110\n",
            "Seafood                    64\n",
            "Name: Item_Type, dtype: int64\n",
            "OUT027    935\n",
            "OUT013    932\n",
            "OUT049    930\n",
            "OUT046    930\n",
            "OUT035    930\n",
            "OUT045    929\n",
            "OUT018    928\n",
            "OUT017    926\n",
            "OUT010    555\n",
            "OUT019    528\n",
            "Name: Outlet_Identifier, dtype: int64\n",
            "Medium    2793\n",
            "Small     2388\n",
            "High       932\n",
            "Name: Outlet_Size, dtype: int64\n",
            "Tier 3    3350\n",
            "Tier 2    2785\n",
            "Tier 1    2388\n",
            "Name: Outlet_Location_Type, dtype: int64\n",
            "Supermarket Type1    5577\n",
            "Grocery Store        1083\n",
            "Supermarket Type3     935\n",
            "Supermarket Type2     928\n",
            "Name: Outlet_Type, dtype: int64\n"
          ]
        }
      ]
    },
    {
      "cell_type": "markdown",
      "source": [
        "Se procede a homologar las categorías de la variable Item_Fat_Content"
      ],
      "metadata": {
        "id": "eIDb4lFlEYdk"
      }
    },
    {
      "cell_type": "code",
      "source": [
        "df.replace({\"LF\": 'Low Fat', \"low fat\": 'Low Fat', \"reg\": 'Regular'}, inplace=True)\n",
        "df['Item_Fat_Content'].value_counts()"
      ],
      "metadata": {
        "id": "NrhXUP6uEluV",
        "outputId": "7cea7193-40a9-42de-e265-1a0d4fcbc195",
        "colab": {
          "base_uri": "https://localhost:8080/"
        }
      },
      "execution_count": 38,
      "outputs": [
        {
          "output_type": "execute_result",
          "data": {
            "text/plain": [
              "Low Fat    5517\n",
              "Regular    3006\n",
              "Name: Item_Fat_Content, dtype: int64"
            ]
          },
          "metadata": {},
          "execution_count": 38
        }
      ]
    },
    {
      "cell_type": "markdown",
      "source": [
        "**Preprocesamiento**"
      ],
      "metadata": {
        "id": "5I4pS7MbAK4w"
      }
    },
    {
      "cell_type": "markdown",
      "source": [
        "Realizaremos una transformación de las variables categoricas y escalamiento de las númericas para tener un modelo de prodección mas acertado"
      ],
      "metadata": {
        "id": "KsfeaTsRALie"
      }
    },
    {
      "cell_type": "code",
      "source": [
        "# Instanciar selectores\n",
        "cat_selector = make_column_selector(dtype_include='object')\n",
        "num_selector = make_column_selector(dtype_include='number')"
      ],
      "metadata": {
        "id": "tv0qPe-7a9eX"
      },
      "execution_count": 62,
      "outputs": []
    },
    {
      "cell_type": "code",
      "source": [
        "# Instanciar transformadores\n",
        "freq_imputer = SimpleImputer(strategy='most_frequent')\n",
        "mean_imputer = SimpleImputer(strategy='mean')\n",
        "\n",
        "# Instancien el escalador\n",
        "scaler = StandardScaler()\n",
        "\n",
        "# One-hot encoder\n",
        "ohe = OneHotEncoder(handle_unknown='ignore', sparse=False)"
      ],
      "metadata": {
        "id": "2x2pM107a-QL"
      },
      "execution_count": 64,
      "outputs": []
    },
    {
      "cell_type": "code",
      "source": [
        "# Instanciar pipelines\n",
        "# Numeric pipeline\n",
        "numeric_pipe = make_pipeline(mean_imputer, scaler)\n",
        "numeric_pipe"
      ],
      "metadata": {
        "colab": {
          "base_uri": "https://localhost:8080/",
          "height": 126
        },
        "id": "PJwIggCQbEW9",
        "outputId": "a05ef2a5-98f0-43aa-e4eb-705bc8ab1dd0"
      },
      "execution_count": 65,
      "outputs": [
        {
          "output_type": "execute_result",
          "data": {
            "text/plain": [
              "Pipeline(steps=[('simpleimputer', SimpleImputer()),\n",
              "                ('standardscaler', StandardScaler())])"
            ],
            "text/html": [
              "<style>#sk-0f9bcd53-57c0-47a9-8a85-d5e2ca4fbed7 {color: black;background-color: white;}#sk-0f9bcd53-57c0-47a9-8a85-d5e2ca4fbed7 pre{padding: 0;}#sk-0f9bcd53-57c0-47a9-8a85-d5e2ca4fbed7 div.sk-toggleable {background-color: white;}#sk-0f9bcd53-57c0-47a9-8a85-d5e2ca4fbed7 label.sk-toggleable__label {cursor: pointer;display: block;width: 100%;margin-bottom: 0;padding: 0.3em;box-sizing: border-box;text-align: center;}#sk-0f9bcd53-57c0-47a9-8a85-d5e2ca4fbed7 label.sk-toggleable__label-arrow:before {content: \"▸\";float: left;margin-right: 0.25em;color: #696969;}#sk-0f9bcd53-57c0-47a9-8a85-d5e2ca4fbed7 label.sk-toggleable__label-arrow:hover:before {color: black;}#sk-0f9bcd53-57c0-47a9-8a85-d5e2ca4fbed7 div.sk-estimator:hover label.sk-toggleable__label-arrow:before {color: black;}#sk-0f9bcd53-57c0-47a9-8a85-d5e2ca4fbed7 div.sk-toggleable__content {max-height: 0;max-width: 0;overflow: hidden;text-align: left;background-color: #f0f8ff;}#sk-0f9bcd53-57c0-47a9-8a85-d5e2ca4fbed7 div.sk-toggleable__content pre {margin: 0.2em;color: black;border-radius: 0.25em;background-color: #f0f8ff;}#sk-0f9bcd53-57c0-47a9-8a85-d5e2ca4fbed7 input.sk-toggleable__control:checked~div.sk-toggleable__content {max-height: 200px;max-width: 100%;overflow: auto;}#sk-0f9bcd53-57c0-47a9-8a85-d5e2ca4fbed7 input.sk-toggleable__control:checked~label.sk-toggleable__label-arrow:before {content: \"▾\";}#sk-0f9bcd53-57c0-47a9-8a85-d5e2ca4fbed7 div.sk-estimator input.sk-toggleable__control:checked~label.sk-toggleable__label {background-color: #d4ebff;}#sk-0f9bcd53-57c0-47a9-8a85-d5e2ca4fbed7 div.sk-label input.sk-toggleable__control:checked~label.sk-toggleable__label {background-color: #d4ebff;}#sk-0f9bcd53-57c0-47a9-8a85-d5e2ca4fbed7 input.sk-hidden--visually {border: 0;clip: rect(1px 1px 1px 1px);clip: rect(1px, 1px, 1px, 1px);height: 1px;margin: -1px;overflow: hidden;padding: 0;position: absolute;width: 1px;}#sk-0f9bcd53-57c0-47a9-8a85-d5e2ca4fbed7 div.sk-estimator {font-family: monospace;background-color: #f0f8ff;border: 1px dotted black;border-radius: 0.25em;box-sizing: border-box;margin-bottom: 0.5em;}#sk-0f9bcd53-57c0-47a9-8a85-d5e2ca4fbed7 div.sk-estimator:hover {background-color: #d4ebff;}#sk-0f9bcd53-57c0-47a9-8a85-d5e2ca4fbed7 div.sk-parallel-item::after {content: \"\";width: 100%;border-bottom: 1px solid gray;flex-grow: 1;}#sk-0f9bcd53-57c0-47a9-8a85-d5e2ca4fbed7 div.sk-label:hover label.sk-toggleable__label {background-color: #d4ebff;}#sk-0f9bcd53-57c0-47a9-8a85-d5e2ca4fbed7 div.sk-serial::before {content: \"\";position: absolute;border-left: 1px solid gray;box-sizing: border-box;top: 2em;bottom: 0;left: 50%;}#sk-0f9bcd53-57c0-47a9-8a85-d5e2ca4fbed7 div.sk-serial {display: flex;flex-direction: column;align-items: center;background-color: white;padding-right: 0.2em;padding-left: 0.2em;}#sk-0f9bcd53-57c0-47a9-8a85-d5e2ca4fbed7 div.sk-item {z-index: 1;}#sk-0f9bcd53-57c0-47a9-8a85-d5e2ca4fbed7 div.sk-parallel {display: flex;align-items: stretch;justify-content: center;background-color: white;}#sk-0f9bcd53-57c0-47a9-8a85-d5e2ca4fbed7 div.sk-parallel::before {content: \"\";position: absolute;border-left: 1px solid gray;box-sizing: border-box;top: 2em;bottom: 0;left: 50%;}#sk-0f9bcd53-57c0-47a9-8a85-d5e2ca4fbed7 div.sk-parallel-item {display: flex;flex-direction: column;position: relative;background-color: white;}#sk-0f9bcd53-57c0-47a9-8a85-d5e2ca4fbed7 div.sk-parallel-item:first-child::after {align-self: flex-end;width: 50%;}#sk-0f9bcd53-57c0-47a9-8a85-d5e2ca4fbed7 div.sk-parallel-item:last-child::after {align-self: flex-start;width: 50%;}#sk-0f9bcd53-57c0-47a9-8a85-d5e2ca4fbed7 div.sk-parallel-item:only-child::after {width: 0;}#sk-0f9bcd53-57c0-47a9-8a85-d5e2ca4fbed7 div.sk-dashed-wrapped {border: 1px dashed gray;margin: 0 0.4em 0.5em 0.4em;box-sizing: border-box;padding-bottom: 0.4em;background-color: white;position: relative;}#sk-0f9bcd53-57c0-47a9-8a85-d5e2ca4fbed7 div.sk-label label {font-family: monospace;font-weight: bold;background-color: white;display: inline-block;line-height: 1.2em;}#sk-0f9bcd53-57c0-47a9-8a85-d5e2ca4fbed7 div.sk-label-container {position: relative;z-index: 2;text-align: center;}#sk-0f9bcd53-57c0-47a9-8a85-d5e2ca4fbed7 div.sk-container {/* jupyter's `normalize.less` sets `[hidden] { display: none; }` but bootstrap.min.css set `[hidden] { display: none !important; }` so we also need the `!important` here to be able to override the default hidden behavior on the sphinx rendered scikit-learn.org. See: https://github.com/scikit-learn/scikit-learn/issues/21755 */display: inline-block !important;position: relative;}#sk-0f9bcd53-57c0-47a9-8a85-d5e2ca4fbed7 div.sk-text-repr-fallback {display: none;}</style><div id=\"sk-0f9bcd53-57c0-47a9-8a85-d5e2ca4fbed7\" class=\"sk-top-container\"><div class=\"sk-text-repr-fallback\"><pre>Pipeline(steps=[(&#x27;simpleimputer&#x27;, SimpleImputer()),\n",
              "                (&#x27;standardscaler&#x27;, StandardScaler())])</pre><b>Please rerun this cell to show the HTML repr or trust the notebook.</b></div><div class=\"sk-container\" hidden><div class=\"sk-item sk-dashed-wrapped\"><div class=\"sk-label-container\"><div class=\"sk-label sk-toggleable\"><input class=\"sk-toggleable__control sk-hidden--visually\" id=\"ab6e5c97-6c16-4a1c-a2f4-c5772e3368a5\" type=\"checkbox\" ><label for=\"ab6e5c97-6c16-4a1c-a2f4-c5772e3368a5\" class=\"sk-toggleable__label sk-toggleable__label-arrow\">Pipeline</label><div class=\"sk-toggleable__content\"><pre>Pipeline(steps=[(&#x27;simpleimputer&#x27;, SimpleImputer()),\n",
              "                (&#x27;standardscaler&#x27;, StandardScaler())])</pre></div></div></div><div class=\"sk-serial\"><div class=\"sk-item\"><div class=\"sk-estimator sk-toggleable\"><input class=\"sk-toggleable__control sk-hidden--visually\" id=\"ad341a3f-ae8c-4bb1-98b2-aeac04999058\" type=\"checkbox\" ><label for=\"ad341a3f-ae8c-4bb1-98b2-aeac04999058\" class=\"sk-toggleable__label sk-toggleable__label-arrow\">SimpleImputer</label><div class=\"sk-toggleable__content\"><pre>SimpleImputer()</pre></div></div></div><div class=\"sk-item\"><div class=\"sk-estimator sk-toggleable\"><input class=\"sk-toggleable__control sk-hidden--visually\" id=\"b94af04b-9fb6-4d80-8cf6-85001c4478b6\" type=\"checkbox\" ><label for=\"b94af04b-9fb6-4d80-8cf6-85001c4478b6\" class=\"sk-toggleable__label sk-toggleable__label-arrow\">StandardScaler</label><div class=\"sk-toggleable__content\"><pre>StandardScaler()</pre></div></div></div></div></div></div></div>"
            ]
          },
          "metadata": {},
          "execution_count": 65
        }
      ]
    },
    {
      "cell_type": "code",
      "source": [
        "# Categorical pipeline\n",
        "categorical_pipe = make_pipeline(freq_imputer, ohe)\n",
        "categorical_pipe"
      ],
      "metadata": {
        "colab": {
          "base_uri": "https://localhost:8080/",
          "height": 126
        },
        "id": "aJ8OkBDKbJhD",
        "outputId": "9714c008-5d41-4f74-8176-972dccd63019"
      },
      "execution_count": 60,
      "outputs": [
        {
          "output_type": "execute_result",
          "data": {
            "text/plain": [
              "Pipeline(steps=[('simpleimputer', SimpleImputer(strategy='most_frequent')),\n",
              "                ('onehotencoder',\n",
              "                 OneHotEncoder(handle_unknown='ignore', sparse=False))])"
            ],
            "text/html": [
              "<style>#sk-7efa3d70-1d72-4091-af12-7c739608c6a3 {color: black;background-color: white;}#sk-7efa3d70-1d72-4091-af12-7c739608c6a3 pre{padding: 0;}#sk-7efa3d70-1d72-4091-af12-7c739608c6a3 div.sk-toggleable {background-color: white;}#sk-7efa3d70-1d72-4091-af12-7c739608c6a3 label.sk-toggleable__label {cursor: pointer;display: block;width: 100%;margin-bottom: 0;padding: 0.3em;box-sizing: border-box;text-align: center;}#sk-7efa3d70-1d72-4091-af12-7c739608c6a3 label.sk-toggleable__label-arrow:before {content: \"▸\";float: left;margin-right: 0.25em;color: #696969;}#sk-7efa3d70-1d72-4091-af12-7c739608c6a3 label.sk-toggleable__label-arrow:hover:before {color: black;}#sk-7efa3d70-1d72-4091-af12-7c739608c6a3 div.sk-estimator:hover label.sk-toggleable__label-arrow:before {color: black;}#sk-7efa3d70-1d72-4091-af12-7c739608c6a3 div.sk-toggleable__content {max-height: 0;max-width: 0;overflow: hidden;text-align: left;background-color: #f0f8ff;}#sk-7efa3d70-1d72-4091-af12-7c739608c6a3 div.sk-toggleable__content pre {margin: 0.2em;color: black;border-radius: 0.25em;background-color: #f0f8ff;}#sk-7efa3d70-1d72-4091-af12-7c739608c6a3 input.sk-toggleable__control:checked~div.sk-toggleable__content {max-height: 200px;max-width: 100%;overflow: auto;}#sk-7efa3d70-1d72-4091-af12-7c739608c6a3 input.sk-toggleable__control:checked~label.sk-toggleable__label-arrow:before {content: \"▾\";}#sk-7efa3d70-1d72-4091-af12-7c739608c6a3 div.sk-estimator input.sk-toggleable__control:checked~label.sk-toggleable__label {background-color: #d4ebff;}#sk-7efa3d70-1d72-4091-af12-7c739608c6a3 div.sk-label input.sk-toggleable__control:checked~label.sk-toggleable__label {background-color: #d4ebff;}#sk-7efa3d70-1d72-4091-af12-7c739608c6a3 input.sk-hidden--visually {border: 0;clip: rect(1px 1px 1px 1px);clip: rect(1px, 1px, 1px, 1px);height: 1px;margin: -1px;overflow: hidden;padding: 0;position: absolute;width: 1px;}#sk-7efa3d70-1d72-4091-af12-7c739608c6a3 div.sk-estimator {font-family: monospace;background-color: #f0f8ff;border: 1px dotted black;border-radius: 0.25em;box-sizing: border-box;margin-bottom: 0.5em;}#sk-7efa3d70-1d72-4091-af12-7c739608c6a3 div.sk-estimator:hover {background-color: #d4ebff;}#sk-7efa3d70-1d72-4091-af12-7c739608c6a3 div.sk-parallel-item::after {content: \"\";width: 100%;border-bottom: 1px solid gray;flex-grow: 1;}#sk-7efa3d70-1d72-4091-af12-7c739608c6a3 div.sk-label:hover label.sk-toggleable__label {background-color: #d4ebff;}#sk-7efa3d70-1d72-4091-af12-7c739608c6a3 div.sk-serial::before {content: \"\";position: absolute;border-left: 1px solid gray;box-sizing: border-box;top: 2em;bottom: 0;left: 50%;}#sk-7efa3d70-1d72-4091-af12-7c739608c6a3 div.sk-serial {display: flex;flex-direction: column;align-items: center;background-color: white;padding-right: 0.2em;padding-left: 0.2em;}#sk-7efa3d70-1d72-4091-af12-7c739608c6a3 div.sk-item {z-index: 1;}#sk-7efa3d70-1d72-4091-af12-7c739608c6a3 div.sk-parallel {display: flex;align-items: stretch;justify-content: center;background-color: white;}#sk-7efa3d70-1d72-4091-af12-7c739608c6a3 div.sk-parallel::before {content: \"\";position: absolute;border-left: 1px solid gray;box-sizing: border-box;top: 2em;bottom: 0;left: 50%;}#sk-7efa3d70-1d72-4091-af12-7c739608c6a3 div.sk-parallel-item {display: flex;flex-direction: column;position: relative;background-color: white;}#sk-7efa3d70-1d72-4091-af12-7c739608c6a3 div.sk-parallel-item:first-child::after {align-self: flex-end;width: 50%;}#sk-7efa3d70-1d72-4091-af12-7c739608c6a3 div.sk-parallel-item:last-child::after {align-self: flex-start;width: 50%;}#sk-7efa3d70-1d72-4091-af12-7c739608c6a3 div.sk-parallel-item:only-child::after {width: 0;}#sk-7efa3d70-1d72-4091-af12-7c739608c6a3 div.sk-dashed-wrapped {border: 1px dashed gray;margin: 0 0.4em 0.5em 0.4em;box-sizing: border-box;padding-bottom: 0.4em;background-color: white;position: relative;}#sk-7efa3d70-1d72-4091-af12-7c739608c6a3 div.sk-label label {font-family: monospace;font-weight: bold;background-color: white;display: inline-block;line-height: 1.2em;}#sk-7efa3d70-1d72-4091-af12-7c739608c6a3 div.sk-label-container {position: relative;z-index: 2;text-align: center;}#sk-7efa3d70-1d72-4091-af12-7c739608c6a3 div.sk-container {/* jupyter's `normalize.less` sets `[hidden] { display: none; }` but bootstrap.min.css set `[hidden] { display: none !important; }` so we also need the `!important` here to be able to override the default hidden behavior on the sphinx rendered scikit-learn.org. See: https://github.com/scikit-learn/scikit-learn/issues/21755 */display: inline-block !important;position: relative;}#sk-7efa3d70-1d72-4091-af12-7c739608c6a3 div.sk-text-repr-fallback {display: none;}</style><div id=\"sk-7efa3d70-1d72-4091-af12-7c739608c6a3\" class=\"sk-top-container\"><div class=\"sk-text-repr-fallback\"><pre>Pipeline(steps=[(&#x27;simpleimputer&#x27;, SimpleImputer(strategy=&#x27;most_frequent&#x27;)),\n",
              "                (&#x27;onehotencoder&#x27;,\n",
              "                 OneHotEncoder(handle_unknown=&#x27;ignore&#x27;, sparse=False))])</pre><b>Please rerun this cell to show the HTML repr or trust the notebook.</b></div><div class=\"sk-container\" hidden><div class=\"sk-item sk-dashed-wrapped\"><div class=\"sk-label-container\"><div class=\"sk-label sk-toggleable\"><input class=\"sk-toggleable__control sk-hidden--visually\" id=\"3f72a346-257d-459f-aedf-84fb6879718a\" type=\"checkbox\" ><label for=\"3f72a346-257d-459f-aedf-84fb6879718a\" class=\"sk-toggleable__label sk-toggleable__label-arrow\">Pipeline</label><div class=\"sk-toggleable__content\"><pre>Pipeline(steps=[(&#x27;simpleimputer&#x27;, SimpleImputer(strategy=&#x27;most_frequent&#x27;)),\n",
              "                (&#x27;onehotencoder&#x27;,\n",
              "                 OneHotEncoder(handle_unknown=&#x27;ignore&#x27;, sparse=False))])</pre></div></div></div><div class=\"sk-serial\"><div class=\"sk-item\"><div class=\"sk-estimator sk-toggleable\"><input class=\"sk-toggleable__control sk-hidden--visually\" id=\"541aa789-26cf-4fca-9b87-e34f03f22aea\" type=\"checkbox\" ><label for=\"541aa789-26cf-4fca-9b87-e34f03f22aea\" class=\"sk-toggleable__label sk-toggleable__label-arrow\">SimpleImputer</label><div class=\"sk-toggleable__content\"><pre>SimpleImputer(strategy=&#x27;most_frequent&#x27;)</pre></div></div></div><div class=\"sk-item\"><div class=\"sk-estimator sk-toggleable\"><input class=\"sk-toggleable__control sk-hidden--visually\" id=\"26239ec1-b86b-4236-b7fa-cce02e157230\" type=\"checkbox\" ><label for=\"26239ec1-b86b-4236-b7fa-cce02e157230\" class=\"sk-toggleable__label sk-toggleable__label-arrow\">OneHotEncoder</label><div class=\"sk-toggleable__content\"><pre>OneHotEncoder(handle_unknown=&#x27;ignore&#x27;, sparse=False)</pre></div></div></div></div></div></div></div>"
            ]
          },
          "metadata": {},
          "execution_count": 60
        }
      ]
    },
    {
      "cell_type": "code",
      "source": [
        "#Instanciar transformador de columnas\n",
        "\n",
        "# Tuples para Column Transformer\n",
        "number_tuple = (numeric_pipe, num_selector)\n",
        "category_tuple = (categorical_pipe, cat_selector)\n",
        "# ColumnTransformer\n",
        "preprocessornum = make_column_transformer(number_tuple, category_tuple)\n",
        "preprocessornum"
      ],
      "metadata": {
        "colab": {
          "base_uri": "https://localhost:8080/",
          "height": 152
        },
        "id": "7R9HblLQbPlT",
        "outputId": "9dd22265-9fb1-488e-8510-9710d9e95038"
      },
      "execution_count": 70,
      "outputs": [
        {
          "output_type": "execute_result",
          "data": {
            "text/plain": [
              "ColumnTransformer(transformers=[('pipeline-1',\n",
              "                                 Pipeline(steps=[('simpleimputer',\n",
              "                                                  SimpleImputer()),\n",
              "                                                 ('standardscaler',\n",
              "                                                  StandardScaler())]),\n",
              "                                 <sklearn.compose._column_transformer.make_column_selector object at 0x7f657959d250>),\n",
              "                                ('pipeline-2',\n",
              "                                 Pipeline(steps=[('simpleimputer',\n",
              "                                                  SimpleImputer(strategy='most_frequent')),\n",
              "                                                 ('onehotencoder',\n",
              "                                                  OneHotEncoder(handle_unknown='ignore',\n",
              "                                                                sparse=False))]),\n",
              "                                 <sklearn.compose._column_transformer.make_column_selector object at 0x7f657959da60>)])"
            ],
            "text/html": [
              "<style>#sk-2c28f081-218d-4569-9ee4-9cd6e9cd4e9b {color: black;background-color: white;}#sk-2c28f081-218d-4569-9ee4-9cd6e9cd4e9b pre{padding: 0;}#sk-2c28f081-218d-4569-9ee4-9cd6e9cd4e9b div.sk-toggleable {background-color: white;}#sk-2c28f081-218d-4569-9ee4-9cd6e9cd4e9b label.sk-toggleable__label {cursor: pointer;display: block;width: 100%;margin-bottom: 0;padding: 0.3em;box-sizing: border-box;text-align: center;}#sk-2c28f081-218d-4569-9ee4-9cd6e9cd4e9b label.sk-toggleable__label-arrow:before {content: \"▸\";float: left;margin-right: 0.25em;color: #696969;}#sk-2c28f081-218d-4569-9ee4-9cd6e9cd4e9b label.sk-toggleable__label-arrow:hover:before {color: black;}#sk-2c28f081-218d-4569-9ee4-9cd6e9cd4e9b div.sk-estimator:hover label.sk-toggleable__label-arrow:before {color: black;}#sk-2c28f081-218d-4569-9ee4-9cd6e9cd4e9b div.sk-toggleable__content {max-height: 0;max-width: 0;overflow: hidden;text-align: left;background-color: #f0f8ff;}#sk-2c28f081-218d-4569-9ee4-9cd6e9cd4e9b div.sk-toggleable__content pre {margin: 0.2em;color: black;border-radius: 0.25em;background-color: #f0f8ff;}#sk-2c28f081-218d-4569-9ee4-9cd6e9cd4e9b input.sk-toggleable__control:checked~div.sk-toggleable__content {max-height: 200px;max-width: 100%;overflow: auto;}#sk-2c28f081-218d-4569-9ee4-9cd6e9cd4e9b input.sk-toggleable__control:checked~label.sk-toggleable__label-arrow:before {content: \"▾\";}#sk-2c28f081-218d-4569-9ee4-9cd6e9cd4e9b div.sk-estimator input.sk-toggleable__control:checked~label.sk-toggleable__label {background-color: #d4ebff;}#sk-2c28f081-218d-4569-9ee4-9cd6e9cd4e9b div.sk-label input.sk-toggleable__control:checked~label.sk-toggleable__label {background-color: #d4ebff;}#sk-2c28f081-218d-4569-9ee4-9cd6e9cd4e9b input.sk-hidden--visually {border: 0;clip: rect(1px 1px 1px 1px);clip: rect(1px, 1px, 1px, 1px);height: 1px;margin: -1px;overflow: hidden;padding: 0;position: absolute;width: 1px;}#sk-2c28f081-218d-4569-9ee4-9cd6e9cd4e9b div.sk-estimator {font-family: monospace;background-color: #f0f8ff;border: 1px dotted black;border-radius: 0.25em;box-sizing: border-box;margin-bottom: 0.5em;}#sk-2c28f081-218d-4569-9ee4-9cd6e9cd4e9b div.sk-estimator:hover {background-color: #d4ebff;}#sk-2c28f081-218d-4569-9ee4-9cd6e9cd4e9b div.sk-parallel-item::after {content: \"\";width: 100%;border-bottom: 1px solid gray;flex-grow: 1;}#sk-2c28f081-218d-4569-9ee4-9cd6e9cd4e9b div.sk-label:hover label.sk-toggleable__label {background-color: #d4ebff;}#sk-2c28f081-218d-4569-9ee4-9cd6e9cd4e9b div.sk-serial::before {content: \"\";position: absolute;border-left: 1px solid gray;box-sizing: border-box;top: 2em;bottom: 0;left: 50%;}#sk-2c28f081-218d-4569-9ee4-9cd6e9cd4e9b div.sk-serial {display: flex;flex-direction: column;align-items: center;background-color: white;padding-right: 0.2em;padding-left: 0.2em;}#sk-2c28f081-218d-4569-9ee4-9cd6e9cd4e9b div.sk-item {z-index: 1;}#sk-2c28f081-218d-4569-9ee4-9cd6e9cd4e9b div.sk-parallel {display: flex;align-items: stretch;justify-content: center;background-color: white;}#sk-2c28f081-218d-4569-9ee4-9cd6e9cd4e9b div.sk-parallel::before {content: \"\";position: absolute;border-left: 1px solid gray;box-sizing: border-box;top: 2em;bottom: 0;left: 50%;}#sk-2c28f081-218d-4569-9ee4-9cd6e9cd4e9b div.sk-parallel-item {display: flex;flex-direction: column;position: relative;background-color: white;}#sk-2c28f081-218d-4569-9ee4-9cd6e9cd4e9b div.sk-parallel-item:first-child::after {align-self: flex-end;width: 50%;}#sk-2c28f081-218d-4569-9ee4-9cd6e9cd4e9b div.sk-parallel-item:last-child::after {align-self: flex-start;width: 50%;}#sk-2c28f081-218d-4569-9ee4-9cd6e9cd4e9b div.sk-parallel-item:only-child::after {width: 0;}#sk-2c28f081-218d-4569-9ee4-9cd6e9cd4e9b div.sk-dashed-wrapped {border: 1px dashed gray;margin: 0 0.4em 0.5em 0.4em;box-sizing: border-box;padding-bottom: 0.4em;background-color: white;position: relative;}#sk-2c28f081-218d-4569-9ee4-9cd6e9cd4e9b div.sk-label label {font-family: monospace;font-weight: bold;background-color: white;display: inline-block;line-height: 1.2em;}#sk-2c28f081-218d-4569-9ee4-9cd6e9cd4e9b div.sk-label-container {position: relative;z-index: 2;text-align: center;}#sk-2c28f081-218d-4569-9ee4-9cd6e9cd4e9b div.sk-container {/* jupyter's `normalize.less` sets `[hidden] { display: none; }` but bootstrap.min.css set `[hidden] { display: none !important; }` so we also need the `!important` here to be able to override the default hidden behavior on the sphinx rendered scikit-learn.org. See: https://github.com/scikit-learn/scikit-learn/issues/21755 */display: inline-block !important;position: relative;}#sk-2c28f081-218d-4569-9ee4-9cd6e9cd4e9b div.sk-text-repr-fallback {display: none;}</style><div id=\"sk-2c28f081-218d-4569-9ee4-9cd6e9cd4e9b\" class=\"sk-top-container\"><div class=\"sk-text-repr-fallback\"><pre>ColumnTransformer(transformers=[(&#x27;pipeline-1&#x27;,\n",
              "                                 Pipeline(steps=[(&#x27;simpleimputer&#x27;,\n",
              "                                                  SimpleImputer()),\n",
              "                                                 (&#x27;standardscaler&#x27;,\n",
              "                                                  StandardScaler())]),\n",
              "                                 &lt;sklearn.compose._column_transformer.make_column_selector object at 0x7f657959d250&gt;),\n",
              "                                (&#x27;pipeline-2&#x27;,\n",
              "                                 Pipeline(steps=[(&#x27;simpleimputer&#x27;,\n",
              "                                                  SimpleImputer(strategy=&#x27;most_frequent&#x27;)),\n",
              "                                                 (&#x27;onehotencoder&#x27;,\n",
              "                                                  OneHotEncoder(handle_unknown=&#x27;ignore&#x27;,\n",
              "                                                                sparse=False))]),\n",
              "                                 &lt;sklearn.compose._column_transformer.make_column_selector object at 0x7f657959da60&gt;)])</pre><b>Please rerun this cell to show the HTML repr or trust the notebook.</b></div><div class=\"sk-container\" hidden><div class=\"sk-item sk-dashed-wrapped\"><div class=\"sk-label-container\"><div class=\"sk-label sk-toggleable\"><input class=\"sk-toggleable__control sk-hidden--visually\" id=\"0ebd47b9-e0f2-4aed-bb77-e351f173d3d7\" type=\"checkbox\" ><label for=\"0ebd47b9-e0f2-4aed-bb77-e351f173d3d7\" class=\"sk-toggleable__label sk-toggleable__label-arrow\">ColumnTransformer</label><div class=\"sk-toggleable__content\"><pre>ColumnTransformer(transformers=[(&#x27;pipeline-1&#x27;,\n",
              "                                 Pipeline(steps=[(&#x27;simpleimputer&#x27;,\n",
              "                                                  SimpleImputer()),\n",
              "                                                 (&#x27;standardscaler&#x27;,\n",
              "                                                  StandardScaler())]),\n",
              "                                 &lt;sklearn.compose._column_transformer.make_column_selector object at 0x7f657959d250&gt;),\n",
              "                                (&#x27;pipeline-2&#x27;,\n",
              "                                 Pipeline(steps=[(&#x27;simpleimputer&#x27;,\n",
              "                                                  SimpleImputer(strategy=&#x27;most_frequent&#x27;)),\n",
              "                                                 (&#x27;onehotencoder&#x27;,\n",
              "                                                  OneHotEncoder(handle_unknown=&#x27;ignore&#x27;,\n",
              "                                                                sparse=False))]),\n",
              "                                 &lt;sklearn.compose._column_transformer.make_column_selector object at 0x7f657959da60&gt;)])</pre></div></div></div><div class=\"sk-parallel\"><div class=\"sk-parallel-item\"><div class=\"sk-item\"><div class=\"sk-label-container\"><div class=\"sk-label sk-toggleable\"><input class=\"sk-toggleable__control sk-hidden--visually\" id=\"a6c04bf5-2bfc-4fab-a712-7ea243b1517f\" type=\"checkbox\" ><label for=\"a6c04bf5-2bfc-4fab-a712-7ea243b1517f\" class=\"sk-toggleable__label sk-toggleable__label-arrow\">pipeline-1</label><div class=\"sk-toggleable__content\"><pre>&lt;sklearn.compose._column_transformer.make_column_selector object at 0x7f657959d250&gt;</pre></div></div></div><div class=\"sk-serial\"><div class=\"sk-item\"><div class=\"sk-serial\"><div class=\"sk-item\"><div class=\"sk-estimator sk-toggleable\"><input class=\"sk-toggleable__control sk-hidden--visually\" id=\"111fbcd7-8945-42b8-8865-b9dca3c1fb2e\" type=\"checkbox\" ><label for=\"111fbcd7-8945-42b8-8865-b9dca3c1fb2e\" class=\"sk-toggleable__label sk-toggleable__label-arrow\">SimpleImputer</label><div class=\"sk-toggleable__content\"><pre>SimpleImputer()</pre></div></div></div><div class=\"sk-item\"><div class=\"sk-estimator sk-toggleable\"><input class=\"sk-toggleable__control sk-hidden--visually\" id=\"64d9467b-ab17-4e3a-8a02-cdfa5f1733f4\" type=\"checkbox\" ><label for=\"64d9467b-ab17-4e3a-8a02-cdfa5f1733f4\" class=\"sk-toggleable__label sk-toggleable__label-arrow\">StandardScaler</label><div class=\"sk-toggleable__content\"><pre>StandardScaler()</pre></div></div></div></div></div></div></div></div><div class=\"sk-parallel-item\"><div class=\"sk-item\"><div class=\"sk-label-container\"><div class=\"sk-label sk-toggleable\"><input class=\"sk-toggleable__control sk-hidden--visually\" id=\"89f1eaca-4517-4cb2-bc00-1bf216a4c56d\" type=\"checkbox\" ><label for=\"89f1eaca-4517-4cb2-bc00-1bf216a4c56d\" class=\"sk-toggleable__label sk-toggleable__label-arrow\">pipeline-2</label><div class=\"sk-toggleable__content\"><pre>&lt;sklearn.compose._column_transformer.make_column_selector object at 0x7f657959da60&gt;</pre></div></div></div><div class=\"sk-serial\"><div class=\"sk-item\"><div class=\"sk-serial\"><div class=\"sk-item\"><div class=\"sk-estimator sk-toggleable\"><input class=\"sk-toggleable__control sk-hidden--visually\" id=\"b3dad06d-b753-4955-8542-6f5177677beb\" type=\"checkbox\" ><label for=\"b3dad06d-b753-4955-8542-6f5177677beb\" class=\"sk-toggleable__label sk-toggleable__label-arrow\">SimpleImputer</label><div class=\"sk-toggleable__content\"><pre>SimpleImputer(strategy=&#x27;most_frequent&#x27;)</pre></div></div></div><div class=\"sk-item\"><div class=\"sk-estimator sk-toggleable\"><input class=\"sk-toggleable__control sk-hidden--visually\" id=\"cfd91ac9-05ef-4e08-a64e-5b03a8b2a316\" type=\"checkbox\" ><label for=\"cfd91ac9-05ef-4e08-a64e-5b03a8b2a316\" class=\"sk-toggleable__label sk-toggleable__label-arrow\">OneHotEncoder</label><div class=\"sk-toggleable__content\"><pre>OneHotEncoder(handle_unknown=&#x27;ignore&#x27;, sparse=False)</pre></div></div></div></div></div></div></div></div></div></div></div></div>"
            ]
          },
          "metadata": {},
          "execution_count": 70
        }
      ]
    },
    {
      "cell_type": "code",
      "source": [
        "# Escalar variable objetivo\n",
        "scaler = StandardScaler()\n",
        "# ajusten el escalador en los datos de entrenamiento\n",
        "scaler.fit(df[['Item_Outlet_Sales']])\n",
        "df['Item_Outlet_Sales'] = scaler.transform(df[['Item_Outlet_Sales']])\n",
        "df.head()"
      ],
      "metadata": {
        "colab": {
          "base_uri": "https://localhost:8080/",
          "height": 206
        },
        "id": "zWkNpMK5FZb9",
        "outputId": "623904c0-8509-4dc3-f8fe-ca30e46856e7"
      },
      "execution_count": 72,
      "outputs": [
        {
          "output_type": "execute_result",
          "data": {
            "text/plain": [
              "  Item_Identifier  Item_Weight Item_Fat_Content  Item_Visibility  \\\n",
              "0           FDA15         9.30          Low Fat         0.016047   \n",
              "1           DRC01         5.92          Regular         0.019278   \n",
              "2           FDN15        17.50          Low Fat         0.016760   \n",
              "3           FDX07        19.20          Regular         0.000000   \n",
              "4           NCD19         8.93          Low Fat         0.000000   \n",
              "\n",
              "               Item_Type  Item_MRP Outlet_Identifier  \\\n",
              "0                  Dairy  249.8092            OUT049   \n",
              "1            Soft Drinks   48.2692            OUT018   \n",
              "2                   Meat  141.6180            OUT049   \n",
              "3  Fruits and Vegetables  182.0950            OUT010   \n",
              "4              Household   53.8614            OUT013   \n",
              "\n",
              "   Outlet_Establishment_Year Outlet_Size Outlet_Location_Type  \\\n",
              "0                       1999      Medium               Tier 1   \n",
              "1                       2009      Medium               Tier 3   \n",
              "2                       1999      Medium               Tier 1   \n",
              "3                       1998         NaN               Tier 3   \n",
              "4                       1987        High               Tier 3   \n",
              "\n",
              "         Outlet_Type  Item_Outlet_Sales  \n",
              "0  Supermarket Type1           0.910601  \n",
              "1  Supermarket Type2          -1.018440  \n",
              "2  Supermarket Type1          -0.049238  \n",
              "3      Grocery Store          -0.849103  \n",
              "4  Supermarket Type1          -0.695373  "
            ],
            "text/html": [
              "\n",
              "  <div id=\"df-58a1413b-9179-4f58-bdc3-9cda6fc563fb\">\n",
              "    <div class=\"colab-df-container\">\n",
              "      <div>\n",
              "<style scoped>\n",
              "    .dataframe tbody tr th:only-of-type {\n",
              "        vertical-align: middle;\n",
              "    }\n",
              "\n",
              "    .dataframe tbody tr th {\n",
              "        vertical-align: top;\n",
              "    }\n",
              "\n",
              "    .dataframe thead th {\n",
              "        text-align: right;\n",
              "    }\n",
              "</style>\n",
              "<table border=\"1\" class=\"dataframe\">\n",
              "  <thead>\n",
              "    <tr style=\"text-align: right;\">\n",
              "      <th></th>\n",
              "      <th>Item_Identifier</th>\n",
              "      <th>Item_Weight</th>\n",
              "      <th>Item_Fat_Content</th>\n",
              "      <th>Item_Visibility</th>\n",
              "      <th>Item_Type</th>\n",
              "      <th>Item_MRP</th>\n",
              "      <th>Outlet_Identifier</th>\n",
              "      <th>Outlet_Establishment_Year</th>\n",
              "      <th>Outlet_Size</th>\n",
              "      <th>Outlet_Location_Type</th>\n",
              "      <th>Outlet_Type</th>\n",
              "      <th>Item_Outlet_Sales</th>\n",
              "    </tr>\n",
              "  </thead>\n",
              "  <tbody>\n",
              "    <tr>\n",
              "      <th>0</th>\n",
              "      <td>FDA15</td>\n",
              "      <td>9.30</td>\n",
              "      <td>Low Fat</td>\n",
              "      <td>0.016047</td>\n",
              "      <td>Dairy</td>\n",
              "      <td>249.8092</td>\n",
              "      <td>OUT049</td>\n",
              "      <td>1999</td>\n",
              "      <td>Medium</td>\n",
              "      <td>Tier 1</td>\n",
              "      <td>Supermarket Type1</td>\n",
              "      <td>0.910601</td>\n",
              "    </tr>\n",
              "    <tr>\n",
              "      <th>1</th>\n",
              "      <td>DRC01</td>\n",
              "      <td>5.92</td>\n",
              "      <td>Regular</td>\n",
              "      <td>0.019278</td>\n",
              "      <td>Soft Drinks</td>\n",
              "      <td>48.2692</td>\n",
              "      <td>OUT018</td>\n",
              "      <td>2009</td>\n",
              "      <td>Medium</td>\n",
              "      <td>Tier 3</td>\n",
              "      <td>Supermarket Type2</td>\n",
              "      <td>-1.018440</td>\n",
              "    </tr>\n",
              "    <tr>\n",
              "      <th>2</th>\n",
              "      <td>FDN15</td>\n",
              "      <td>17.50</td>\n",
              "      <td>Low Fat</td>\n",
              "      <td>0.016760</td>\n",
              "      <td>Meat</td>\n",
              "      <td>141.6180</td>\n",
              "      <td>OUT049</td>\n",
              "      <td>1999</td>\n",
              "      <td>Medium</td>\n",
              "      <td>Tier 1</td>\n",
              "      <td>Supermarket Type1</td>\n",
              "      <td>-0.049238</td>\n",
              "    </tr>\n",
              "    <tr>\n",
              "      <th>3</th>\n",
              "      <td>FDX07</td>\n",
              "      <td>19.20</td>\n",
              "      <td>Regular</td>\n",
              "      <td>0.000000</td>\n",
              "      <td>Fruits and Vegetables</td>\n",
              "      <td>182.0950</td>\n",
              "      <td>OUT010</td>\n",
              "      <td>1998</td>\n",
              "      <td>NaN</td>\n",
              "      <td>Tier 3</td>\n",
              "      <td>Grocery Store</td>\n",
              "      <td>-0.849103</td>\n",
              "    </tr>\n",
              "    <tr>\n",
              "      <th>4</th>\n",
              "      <td>NCD19</td>\n",
              "      <td>8.93</td>\n",
              "      <td>Low Fat</td>\n",
              "      <td>0.000000</td>\n",
              "      <td>Household</td>\n",
              "      <td>53.8614</td>\n",
              "      <td>OUT013</td>\n",
              "      <td>1987</td>\n",
              "      <td>High</td>\n",
              "      <td>Tier 3</td>\n",
              "      <td>Supermarket Type1</td>\n",
              "      <td>-0.695373</td>\n",
              "    </tr>\n",
              "  </tbody>\n",
              "</table>\n",
              "</div>\n",
              "      <button class=\"colab-df-convert\" onclick=\"convertToInteractive('df-58a1413b-9179-4f58-bdc3-9cda6fc563fb')\"\n",
              "              title=\"Convert this dataframe to an interactive table.\"\n",
              "              style=\"display:none;\">\n",
              "        \n",
              "  <svg xmlns=\"http://www.w3.org/2000/svg\" height=\"24px\"viewBox=\"0 0 24 24\"\n",
              "       width=\"24px\">\n",
              "    <path d=\"M0 0h24v24H0V0z\" fill=\"none\"/>\n",
              "    <path d=\"M18.56 5.44l.94 2.06.94-2.06 2.06-.94-2.06-.94-.94-2.06-.94 2.06-2.06.94zm-11 1L8.5 8.5l.94-2.06 2.06-.94-2.06-.94L8.5 2.5l-.94 2.06-2.06.94zm10 10l.94 2.06.94-2.06 2.06-.94-2.06-.94-.94-2.06-.94 2.06-2.06.94z\"/><path d=\"M17.41 7.96l-1.37-1.37c-.4-.4-.92-.59-1.43-.59-.52 0-1.04.2-1.43.59L10.3 9.45l-7.72 7.72c-.78.78-.78 2.05 0 2.83L4 21.41c.39.39.9.59 1.41.59.51 0 1.02-.2 1.41-.59l7.78-7.78 2.81-2.81c.8-.78.8-2.07 0-2.86zM5.41 20L4 18.59l7.72-7.72 1.47 1.35L5.41 20z\"/>\n",
              "  </svg>\n",
              "      </button>\n",
              "      \n",
              "  <style>\n",
              "    .colab-df-container {\n",
              "      display:flex;\n",
              "      flex-wrap:wrap;\n",
              "      gap: 12px;\n",
              "    }\n",
              "\n",
              "    .colab-df-convert {\n",
              "      background-color: #E8F0FE;\n",
              "      border: none;\n",
              "      border-radius: 50%;\n",
              "      cursor: pointer;\n",
              "      display: none;\n",
              "      fill: #1967D2;\n",
              "      height: 32px;\n",
              "      padding: 0 0 0 0;\n",
              "      width: 32px;\n",
              "    }\n",
              "\n",
              "    .colab-df-convert:hover {\n",
              "      background-color: #E2EBFA;\n",
              "      box-shadow: 0px 1px 2px rgba(60, 64, 67, 0.3), 0px 1px 3px 1px rgba(60, 64, 67, 0.15);\n",
              "      fill: #174EA6;\n",
              "    }\n",
              "\n",
              "    [theme=dark] .colab-df-convert {\n",
              "      background-color: #3B4455;\n",
              "      fill: #D2E3FC;\n",
              "    }\n",
              "\n",
              "    [theme=dark] .colab-df-convert:hover {\n",
              "      background-color: #434B5C;\n",
              "      box-shadow: 0px 1px 3px 1px rgba(0, 0, 0, 0.15);\n",
              "      filter: drop-shadow(0px 1px 2px rgba(0, 0, 0, 0.3));\n",
              "      fill: #FFFFFF;\n",
              "    }\n",
              "  </style>\n",
              "\n",
              "      <script>\n",
              "        const buttonEl =\n",
              "          document.querySelector('#df-58a1413b-9179-4f58-bdc3-9cda6fc563fb button.colab-df-convert');\n",
              "        buttonEl.style.display =\n",
              "          google.colab.kernel.accessAllowed ? 'block' : 'none';\n",
              "\n",
              "        async function convertToInteractive(key) {\n",
              "          const element = document.querySelector('#df-58a1413b-9179-4f58-bdc3-9cda6fc563fb');\n",
              "          const dataTable =\n",
              "            await google.colab.kernel.invokeFunction('convertToInteractive',\n",
              "                                                     [key], {});\n",
              "          if (!dataTable) return;\n",
              "\n",
              "          const docLinkHtml = 'Like what you see? Visit the ' +\n",
              "            '<a target=\"_blank\" href=https://colab.research.google.com/notebooks/data_table.ipynb>data table notebook</a>'\n",
              "            + ' to learn more about interactive tables.';\n",
              "          element.innerHTML = '';\n",
              "          dataTable['output_type'] = 'display_data';\n",
              "          await google.colab.output.renderOutput(dataTable, element);\n",
              "          const docLink = document.createElement('div');\n",
              "          docLink.innerHTML = docLinkHtml;\n",
              "          element.appendChild(docLink);\n",
              "        }\n",
              "      </script>\n",
              "    </div>\n",
              "  </div>\n",
              "  "
            ]
          },
          "metadata": {},
          "execution_count": 72
        }
      ]
    },
    {
      "cell_type": "code",
      "source": [
        "# División de valores\n",
        "X = df.drop('Item_Outlet_Sales', axis=1)\n",
        "y = df['Item_Outlet_Sales']"
      ],
      "metadata": {
        "id": "NfEFbO4qGAgl"
      },
      "execution_count": 73,
      "outputs": []
    },
    {
      "cell_type": "code",
      "source": [
        "#Transformar datos\n",
        "\n",
        "# fit on train\n",
        "preprocessor.fit(X)\n",
        "\n",
        "X_processed = preprocessor.transform(X)\n",
        "X_processed"
      ],
      "metadata": {
        "id": "9YarLPdwbVWQ",
        "colab": {
          "base_uri": "https://localhost:8080/"
        },
        "outputId": "e3b2963a-16f9-4747-8b56-5ef90ff5feeb"
      },
      "execution_count": 74,
      "outputs": [
        {
          "output_type": "execute_result",
          "data": {
            "text/plain": [
              "array([[-0.84187169, -0.97073217,  1.74745381, ...,  1.        ,\n",
              "         0.        ,  0.        ],\n",
              "       [-1.64170589, -0.90811123, -1.48902325, ...,  0.        ,\n",
              "         1.        ,  0.        ],\n",
              "       [ 1.09855449, -0.95691733,  0.01004021, ...,  1.        ,\n",
              "         0.        ,  0.        ],\n",
              "       ...,\n",
              "       [-0.53424315, -0.59978449, -0.89720755, ...,  1.        ,\n",
              "         0.        ,  0.        ],\n",
              "       [-1.33644372,  1.53287976, -0.60797692, ...,  0.        ,\n",
              "         1.        ,  0.        ],\n",
              "       [ 0.45963367, -0.41193591, -1.05226104, ...,  1.        ,\n",
              "         0.        ,  0.        ]])"
            ]
          },
          "metadata": {},
          "execution_count": 74
        }
      ]
    },
    {
      "cell_type": "code",
      "source": [
        "# Comprobación de los valores faltantes y que los datos se escalen y tengan una codificación one-hot\n",
        "print(np.isnan(X_processed).sum().sum(), 'missing values data')\n",
        "print('\\n')\n",
        "print('All data in df are', X_processed.dtype)\n",
        "print('\\n')\n",
        "print('shape of data is', X_processed.shape)\n",
        "print('\\n')"
      ],
      "metadata": {
        "colab": {
          "base_uri": "https://localhost:8080/"
        },
        "id": "-_MUAgDVbcuI",
        "outputId": "70231e75-0d98-41f4-bbbd-be3894f00e03"
      },
      "execution_count": 75,
      "outputs": [
        {
          "output_type": "stream",
          "name": "stdout",
          "text": [
            "0 missing values data\n",
            "\n",
            "\n",
            "All data in df are float64\n",
            "\n",
            "\n",
            "shape of data is (8523, 1601)\n",
            "\n",
            "\n"
          ]
        }
      ]
    },
    {
      "cell_type": "markdown",
      "source": [
        "Finalmente evidenciamos que nuestros datos estan completos, sin faltantes"
      ],
      "metadata": {
        "id": "5SA0UOs7bkTw"
      }
    },
    {
      "cell_type": "code",
      "source": [
        "#Concatenar todas las características de vuelta a un DataFrame.\n",
        "df_processed = pd.DataFrame(X_processed)\n",
        "df_processed.head()"
      ],
      "metadata": {
        "colab": {
          "base_uri": "https://localhost:8080/",
          "height": 236
        },
        "id": "T5kZ8Mdn92Rv",
        "outputId": "ff4a7721-9a2d-414b-a710-a9a75f2ffdab"
      },
      "execution_count": 76,
      "outputs": [
        {
          "output_type": "execute_result",
          "data": {
            "text/plain": [
              "       0         1         2         3     4     5     6     7     8     9     \\\n",
              "0 -0.841872 -0.970732  1.747454  0.139541   0.0   0.0   0.0   0.0   0.0   0.0   \n",
              "1 -1.641706 -0.908111 -1.489023  1.334103   0.0   0.0   0.0   0.0   0.0   0.0   \n",
              "2  1.098554 -0.956917  0.010040  0.139541   0.0   0.0   0.0   0.0   0.0   0.0   \n",
              "3  1.500838 -1.281758  0.660050  0.020085   0.0   0.0   0.0   0.0   0.0   0.0   \n",
              "4 -0.929428 -1.281758 -1.399220 -1.293934   0.0   0.0   0.0   0.0   0.0   0.0   \n",
              "\n",
              "   ...  1591  1592  1593  1594  1595  1596  1597  1598  1599  1600  \n",
              "0  ...   0.0   1.0   0.0   1.0   0.0   0.0   0.0   1.0   0.0   0.0  \n",
              "1  ...   0.0   1.0   0.0   0.0   0.0   1.0   0.0   0.0   1.0   0.0  \n",
              "2  ...   0.0   1.0   0.0   1.0   0.0   0.0   0.0   1.0   0.0   0.0  \n",
              "3  ...   0.0   1.0   0.0   0.0   0.0   1.0   1.0   0.0   0.0   0.0  \n",
              "4  ...   1.0   0.0   0.0   0.0   0.0   1.0   0.0   1.0   0.0   0.0  \n",
              "\n",
              "[5 rows x 1601 columns]"
            ],
            "text/html": [
              "\n",
              "  <div id=\"df-d704a796-50df-4cc2-8961-fd430952e782\">\n",
              "    <div class=\"colab-df-container\">\n",
              "      <div>\n",
              "<style scoped>\n",
              "    .dataframe tbody tr th:only-of-type {\n",
              "        vertical-align: middle;\n",
              "    }\n",
              "\n",
              "    .dataframe tbody tr th {\n",
              "        vertical-align: top;\n",
              "    }\n",
              "\n",
              "    .dataframe thead th {\n",
              "        text-align: right;\n",
              "    }\n",
              "</style>\n",
              "<table border=\"1\" class=\"dataframe\">\n",
              "  <thead>\n",
              "    <tr style=\"text-align: right;\">\n",
              "      <th></th>\n",
              "      <th>0</th>\n",
              "      <th>1</th>\n",
              "      <th>2</th>\n",
              "      <th>3</th>\n",
              "      <th>4</th>\n",
              "      <th>5</th>\n",
              "      <th>6</th>\n",
              "      <th>7</th>\n",
              "      <th>8</th>\n",
              "      <th>9</th>\n",
              "      <th>...</th>\n",
              "      <th>1591</th>\n",
              "      <th>1592</th>\n",
              "      <th>1593</th>\n",
              "      <th>1594</th>\n",
              "      <th>1595</th>\n",
              "      <th>1596</th>\n",
              "      <th>1597</th>\n",
              "      <th>1598</th>\n",
              "      <th>1599</th>\n",
              "      <th>1600</th>\n",
              "    </tr>\n",
              "  </thead>\n",
              "  <tbody>\n",
              "    <tr>\n",
              "      <th>0</th>\n",
              "      <td>-0.841872</td>\n",
              "      <td>-0.970732</td>\n",
              "      <td>1.747454</td>\n",
              "      <td>0.139541</td>\n",
              "      <td>0.0</td>\n",
              "      <td>0.0</td>\n",
              "      <td>0.0</td>\n",
              "      <td>0.0</td>\n",
              "      <td>0.0</td>\n",
              "      <td>0.0</td>\n",
              "      <td>...</td>\n",
              "      <td>0.0</td>\n",
              "      <td>1.0</td>\n",
              "      <td>0.0</td>\n",
              "      <td>1.0</td>\n",
              "      <td>0.0</td>\n",
              "      <td>0.0</td>\n",
              "      <td>0.0</td>\n",
              "      <td>1.0</td>\n",
              "      <td>0.0</td>\n",
              "      <td>0.0</td>\n",
              "    </tr>\n",
              "    <tr>\n",
              "      <th>1</th>\n",
              "      <td>-1.641706</td>\n",
              "      <td>-0.908111</td>\n",
              "      <td>-1.489023</td>\n",
              "      <td>1.334103</td>\n",
              "      <td>0.0</td>\n",
              "      <td>0.0</td>\n",
              "      <td>0.0</td>\n",
              "      <td>0.0</td>\n",
              "      <td>0.0</td>\n",
              "      <td>0.0</td>\n",
              "      <td>...</td>\n",
              "      <td>0.0</td>\n",
              "      <td>1.0</td>\n",
              "      <td>0.0</td>\n",
              "      <td>0.0</td>\n",
              "      <td>0.0</td>\n",
              "      <td>1.0</td>\n",
              "      <td>0.0</td>\n",
              "      <td>0.0</td>\n",
              "      <td>1.0</td>\n",
              "      <td>0.0</td>\n",
              "    </tr>\n",
              "    <tr>\n",
              "      <th>2</th>\n",
              "      <td>1.098554</td>\n",
              "      <td>-0.956917</td>\n",
              "      <td>0.010040</td>\n",
              "      <td>0.139541</td>\n",
              "      <td>0.0</td>\n",
              "      <td>0.0</td>\n",
              "      <td>0.0</td>\n",
              "      <td>0.0</td>\n",
              "      <td>0.0</td>\n",
              "      <td>0.0</td>\n",
              "      <td>...</td>\n",
              "      <td>0.0</td>\n",
              "      <td>1.0</td>\n",
              "      <td>0.0</td>\n",
              "      <td>1.0</td>\n",
              "      <td>0.0</td>\n",
              "      <td>0.0</td>\n",
              "      <td>0.0</td>\n",
              "      <td>1.0</td>\n",
              "      <td>0.0</td>\n",
              "      <td>0.0</td>\n",
              "    </tr>\n",
              "    <tr>\n",
              "      <th>3</th>\n",
              "      <td>1.500838</td>\n",
              "      <td>-1.281758</td>\n",
              "      <td>0.660050</td>\n",
              "      <td>0.020085</td>\n",
              "      <td>0.0</td>\n",
              "      <td>0.0</td>\n",
              "      <td>0.0</td>\n",
              "      <td>0.0</td>\n",
              "      <td>0.0</td>\n",
              "      <td>0.0</td>\n",
              "      <td>...</td>\n",
              "      <td>0.0</td>\n",
              "      <td>1.0</td>\n",
              "      <td>0.0</td>\n",
              "      <td>0.0</td>\n",
              "      <td>0.0</td>\n",
              "      <td>1.0</td>\n",
              "      <td>1.0</td>\n",
              "      <td>0.0</td>\n",
              "      <td>0.0</td>\n",
              "      <td>0.0</td>\n",
              "    </tr>\n",
              "    <tr>\n",
              "      <th>4</th>\n",
              "      <td>-0.929428</td>\n",
              "      <td>-1.281758</td>\n",
              "      <td>-1.399220</td>\n",
              "      <td>-1.293934</td>\n",
              "      <td>0.0</td>\n",
              "      <td>0.0</td>\n",
              "      <td>0.0</td>\n",
              "      <td>0.0</td>\n",
              "      <td>0.0</td>\n",
              "      <td>0.0</td>\n",
              "      <td>...</td>\n",
              "      <td>1.0</td>\n",
              "      <td>0.0</td>\n",
              "      <td>0.0</td>\n",
              "      <td>0.0</td>\n",
              "      <td>0.0</td>\n",
              "      <td>1.0</td>\n",
              "      <td>0.0</td>\n",
              "      <td>1.0</td>\n",
              "      <td>0.0</td>\n",
              "      <td>0.0</td>\n",
              "    </tr>\n",
              "  </tbody>\n",
              "</table>\n",
              "<p>5 rows × 1601 columns</p>\n",
              "</div>\n",
              "      <button class=\"colab-df-convert\" onclick=\"convertToInteractive('df-d704a796-50df-4cc2-8961-fd430952e782')\"\n",
              "              title=\"Convert this dataframe to an interactive table.\"\n",
              "              style=\"display:none;\">\n",
              "        \n",
              "  <svg xmlns=\"http://www.w3.org/2000/svg\" height=\"24px\"viewBox=\"0 0 24 24\"\n",
              "       width=\"24px\">\n",
              "    <path d=\"M0 0h24v24H0V0z\" fill=\"none\"/>\n",
              "    <path d=\"M18.56 5.44l.94 2.06.94-2.06 2.06-.94-2.06-.94-.94-2.06-.94 2.06-2.06.94zm-11 1L8.5 8.5l.94-2.06 2.06-.94-2.06-.94L8.5 2.5l-.94 2.06-2.06.94zm10 10l.94 2.06.94-2.06 2.06-.94-2.06-.94-.94-2.06-.94 2.06-2.06.94z\"/><path d=\"M17.41 7.96l-1.37-1.37c-.4-.4-.92-.59-1.43-.59-.52 0-1.04.2-1.43.59L10.3 9.45l-7.72 7.72c-.78.78-.78 2.05 0 2.83L4 21.41c.39.39.9.59 1.41.59.51 0 1.02-.2 1.41-.59l7.78-7.78 2.81-2.81c.8-.78.8-2.07 0-2.86zM5.41 20L4 18.59l7.72-7.72 1.47 1.35L5.41 20z\"/>\n",
              "  </svg>\n",
              "      </button>\n",
              "      \n",
              "  <style>\n",
              "    .colab-df-container {\n",
              "      display:flex;\n",
              "      flex-wrap:wrap;\n",
              "      gap: 12px;\n",
              "    }\n",
              "\n",
              "    .colab-df-convert {\n",
              "      background-color: #E8F0FE;\n",
              "      border: none;\n",
              "      border-radius: 50%;\n",
              "      cursor: pointer;\n",
              "      display: none;\n",
              "      fill: #1967D2;\n",
              "      height: 32px;\n",
              "      padding: 0 0 0 0;\n",
              "      width: 32px;\n",
              "    }\n",
              "\n",
              "    .colab-df-convert:hover {\n",
              "      background-color: #E2EBFA;\n",
              "      box-shadow: 0px 1px 2px rgba(60, 64, 67, 0.3), 0px 1px 3px 1px rgba(60, 64, 67, 0.15);\n",
              "      fill: #174EA6;\n",
              "    }\n",
              "\n",
              "    [theme=dark] .colab-df-convert {\n",
              "      background-color: #3B4455;\n",
              "      fill: #D2E3FC;\n",
              "    }\n",
              "\n",
              "    [theme=dark] .colab-df-convert:hover {\n",
              "      background-color: #434B5C;\n",
              "      box-shadow: 0px 1px 3px 1px rgba(0, 0, 0, 0.15);\n",
              "      filter: drop-shadow(0px 1px 2px rgba(0, 0, 0, 0.3));\n",
              "      fill: #FFFFFF;\n",
              "    }\n",
              "  </style>\n",
              "\n",
              "      <script>\n",
              "        const buttonEl =\n",
              "          document.querySelector('#df-d704a796-50df-4cc2-8961-fd430952e782 button.colab-df-convert');\n",
              "        buttonEl.style.display =\n",
              "          google.colab.kernel.accessAllowed ? 'block' : 'none';\n",
              "\n",
              "        async function convertToInteractive(key) {\n",
              "          const element = document.querySelector('#df-d704a796-50df-4cc2-8961-fd430952e782');\n",
              "          const dataTable =\n",
              "            await google.colab.kernel.invokeFunction('convertToInteractive',\n",
              "                                                     [key], {});\n",
              "          if (!dataTable) return;\n",
              "\n",
              "          const docLinkHtml = 'Like what you see? Visit the ' +\n",
              "            '<a target=\"_blank\" href=https://colab.research.google.com/notebooks/data_table.ipynb>data table notebook</a>'\n",
              "            + ' to learn more about interactive tables.';\n",
              "          element.innerHTML = '';\n",
              "          dataTable['output_type'] = 'display_data';\n",
              "          await google.colab.output.renderOutput(dataTable, element);\n",
              "          const docLink = document.createElement('div');\n",
              "          docLink.innerHTML = docLinkHtml;\n",
              "          element.appendChild(docLink);\n",
              "        }\n",
              "      </script>\n",
              "    </div>\n",
              "  </div>\n",
              "  "
            ]
          },
          "metadata": {},
          "execution_count": 76
        }
      ]
    },
    {
      "cell_type": "code",
      "source": [
        "#Dividir modelos\n",
        "X_train, X_test, y_train, y_test = train_test_split(df_processed, y, random_state=42)"
      ],
      "metadata": {
        "id": "1W2MLReX8t6s"
      },
      "execution_count": 78,
      "outputs": []
    },
    {
      "cell_type": "markdown",
      "source": [
        "### II.- Modelos"
      ],
      "metadata": {
        "id": "vYDff8ouAREe"
      }
    },
    {
      "cell_type": "markdown",
      "source": [
        "Para la predicción de ventas para productos alimenticios vendidos en diversas tiendas, probaremos varios modelos y se verificará cual es el que mas nos conviene"
      ],
      "metadata": {
        "id": "sejZ_vdHATgo"
      }
    },
    {
      "cell_type": "markdown",
      "source": [
        "**Regresión Lineal**"
      ],
      "metadata": {
        "id": "3jPvHIWXAm9U"
      }
    },
    {
      "cell_type": "code",
      "source": [
        "#Instanciar modelo regresión lineal\n",
        "reg = LinearRegression()\n",
        "\n",
        "#Ajustar modelo\n",
        "reg.fit(X_train,y_train)"
      ],
      "metadata": {
        "colab": {
          "base_uri": "https://localhost:8080/",
          "height": 75
        },
        "id": "YL_CqkdkAhV-",
        "outputId": "9791d6ee-7f28-40a8-ac84-130f096c9da1"
      },
      "execution_count": 79,
      "outputs": [
        {
          "output_type": "execute_result",
          "data": {
            "text/plain": [
              "LinearRegression()"
            ],
            "text/html": [
              "<style>#sk-1dcad049-492d-4fa1-97e8-8394af59d3c3 {color: black;background-color: white;}#sk-1dcad049-492d-4fa1-97e8-8394af59d3c3 pre{padding: 0;}#sk-1dcad049-492d-4fa1-97e8-8394af59d3c3 div.sk-toggleable {background-color: white;}#sk-1dcad049-492d-4fa1-97e8-8394af59d3c3 label.sk-toggleable__label {cursor: pointer;display: block;width: 100%;margin-bottom: 0;padding: 0.3em;box-sizing: border-box;text-align: center;}#sk-1dcad049-492d-4fa1-97e8-8394af59d3c3 label.sk-toggleable__label-arrow:before {content: \"▸\";float: left;margin-right: 0.25em;color: #696969;}#sk-1dcad049-492d-4fa1-97e8-8394af59d3c3 label.sk-toggleable__label-arrow:hover:before {color: black;}#sk-1dcad049-492d-4fa1-97e8-8394af59d3c3 div.sk-estimator:hover label.sk-toggleable__label-arrow:before {color: black;}#sk-1dcad049-492d-4fa1-97e8-8394af59d3c3 div.sk-toggleable__content {max-height: 0;max-width: 0;overflow: hidden;text-align: left;background-color: #f0f8ff;}#sk-1dcad049-492d-4fa1-97e8-8394af59d3c3 div.sk-toggleable__content pre {margin: 0.2em;color: black;border-radius: 0.25em;background-color: #f0f8ff;}#sk-1dcad049-492d-4fa1-97e8-8394af59d3c3 input.sk-toggleable__control:checked~div.sk-toggleable__content {max-height: 200px;max-width: 100%;overflow: auto;}#sk-1dcad049-492d-4fa1-97e8-8394af59d3c3 input.sk-toggleable__control:checked~label.sk-toggleable__label-arrow:before {content: \"▾\";}#sk-1dcad049-492d-4fa1-97e8-8394af59d3c3 div.sk-estimator input.sk-toggleable__control:checked~label.sk-toggleable__label {background-color: #d4ebff;}#sk-1dcad049-492d-4fa1-97e8-8394af59d3c3 div.sk-label input.sk-toggleable__control:checked~label.sk-toggleable__label {background-color: #d4ebff;}#sk-1dcad049-492d-4fa1-97e8-8394af59d3c3 input.sk-hidden--visually {border: 0;clip: rect(1px 1px 1px 1px);clip: rect(1px, 1px, 1px, 1px);height: 1px;margin: -1px;overflow: hidden;padding: 0;position: absolute;width: 1px;}#sk-1dcad049-492d-4fa1-97e8-8394af59d3c3 div.sk-estimator {font-family: monospace;background-color: #f0f8ff;border: 1px dotted black;border-radius: 0.25em;box-sizing: border-box;margin-bottom: 0.5em;}#sk-1dcad049-492d-4fa1-97e8-8394af59d3c3 div.sk-estimator:hover {background-color: #d4ebff;}#sk-1dcad049-492d-4fa1-97e8-8394af59d3c3 div.sk-parallel-item::after {content: \"\";width: 100%;border-bottom: 1px solid gray;flex-grow: 1;}#sk-1dcad049-492d-4fa1-97e8-8394af59d3c3 div.sk-label:hover label.sk-toggleable__label {background-color: #d4ebff;}#sk-1dcad049-492d-4fa1-97e8-8394af59d3c3 div.sk-serial::before {content: \"\";position: absolute;border-left: 1px solid gray;box-sizing: border-box;top: 2em;bottom: 0;left: 50%;}#sk-1dcad049-492d-4fa1-97e8-8394af59d3c3 div.sk-serial {display: flex;flex-direction: column;align-items: center;background-color: white;padding-right: 0.2em;padding-left: 0.2em;}#sk-1dcad049-492d-4fa1-97e8-8394af59d3c3 div.sk-item {z-index: 1;}#sk-1dcad049-492d-4fa1-97e8-8394af59d3c3 div.sk-parallel {display: flex;align-items: stretch;justify-content: center;background-color: white;}#sk-1dcad049-492d-4fa1-97e8-8394af59d3c3 div.sk-parallel::before {content: \"\";position: absolute;border-left: 1px solid gray;box-sizing: border-box;top: 2em;bottom: 0;left: 50%;}#sk-1dcad049-492d-4fa1-97e8-8394af59d3c3 div.sk-parallel-item {display: flex;flex-direction: column;position: relative;background-color: white;}#sk-1dcad049-492d-4fa1-97e8-8394af59d3c3 div.sk-parallel-item:first-child::after {align-self: flex-end;width: 50%;}#sk-1dcad049-492d-4fa1-97e8-8394af59d3c3 div.sk-parallel-item:last-child::after {align-self: flex-start;width: 50%;}#sk-1dcad049-492d-4fa1-97e8-8394af59d3c3 div.sk-parallel-item:only-child::after {width: 0;}#sk-1dcad049-492d-4fa1-97e8-8394af59d3c3 div.sk-dashed-wrapped {border: 1px dashed gray;margin: 0 0.4em 0.5em 0.4em;box-sizing: border-box;padding-bottom: 0.4em;background-color: white;position: relative;}#sk-1dcad049-492d-4fa1-97e8-8394af59d3c3 div.sk-label label {font-family: monospace;font-weight: bold;background-color: white;display: inline-block;line-height: 1.2em;}#sk-1dcad049-492d-4fa1-97e8-8394af59d3c3 div.sk-label-container {position: relative;z-index: 2;text-align: center;}#sk-1dcad049-492d-4fa1-97e8-8394af59d3c3 div.sk-container {/* jupyter's `normalize.less` sets `[hidden] { display: none; }` but bootstrap.min.css set `[hidden] { display: none !important; }` so we also need the `!important` here to be able to override the default hidden behavior on the sphinx rendered scikit-learn.org. See: https://github.com/scikit-learn/scikit-learn/issues/21755 */display: inline-block !important;position: relative;}#sk-1dcad049-492d-4fa1-97e8-8394af59d3c3 div.sk-text-repr-fallback {display: none;}</style><div id=\"sk-1dcad049-492d-4fa1-97e8-8394af59d3c3\" class=\"sk-top-container\"><div class=\"sk-text-repr-fallback\"><pre>LinearRegression()</pre><b>Please rerun this cell to show the HTML repr or trust the notebook.</b></div><div class=\"sk-container\" hidden><div class=\"sk-item\"><div class=\"sk-estimator sk-toggleable\"><input class=\"sk-toggleable__control sk-hidden--visually\" id=\"c550859b-50e9-47d4-a0aa-543368b43da7\" type=\"checkbox\" checked><label for=\"c550859b-50e9-47d4-a0aa-543368b43da7\" class=\"sk-toggleable__label sk-toggleable__label-arrow\">LinearRegression</label><div class=\"sk-toggleable__content\"><pre>LinearRegression()</pre></div></div></div></div></div>"
            ]
          },
          "metadata": {},
          "execution_count": 79
        }
      ]
    },
    {
      "cell_type": "code",
      "source": [
        "# Obtengan las predicciones del conjunto de entrenamiento\n",
        "train_preds = reg.predict(X_train)\n",
        "# Obtengan las predicciones del conjunto de prueba\n",
        "test_preds = reg.predict(X_test)\n",
        "test_preds"
      ],
      "metadata": {
        "colab": {
          "base_uri": "https://localhost:8080/"
        },
        "id": "LMNdYU6-CYw4",
        "outputId": "a534d774-a1c9-4ca8-af26-4e442bd10fd3"
      },
      "execution_count": 80,
      "outputs": [
        {
          "output_type": "execute_result",
          "data": {
            "text/plain": [
              "array([-0.76171875, -0.64453125, -0.515625  , ...,  1.2421875 ,\n",
              "       -0.109375  ,  0.671875  ])"
            ]
          },
          "metadata": {},
          "execution_count": 80
        }
      ]
    },
    {
      "cell_type": "code",
      "source": [
        "#Medición del rendimiento del modelo\n",
        "train_score = reg.score(X_train, y_train)\n",
        "test_score = reg.score(X_test, y_test)\n",
        "\n",
        "print(train_score, '\\n')\n",
        "\n",
        "print(test_score)"
      ],
      "metadata": {
        "colab": {
          "base_uri": "https://localhost:8080/"
        },
        "id": "s9YrHQXzA73s",
        "outputId": "13409afc-f8d7-4ca7-f612-b2894a583c18"
      },
      "execution_count": 81,
      "outputs": [
        {
          "output_type": "stream",
          "name": "stdout",
          "text": [
            "0.660419106866212 \n",
            "\n",
            "-5.468466850539668e+21\n"
          ]
        }
      ]
    },
    {
      "cell_type": "markdown",
      "source": [
        "El valor R^2 en nuestro conjunto de entrenamiento es 0.66, y el valor R^2 en nuestro conjunto de prueba es -5.46.  En este caso, nuestras puntuaciones de entrenamiento y prueba estan muy alejadas, lo que significa que nuestro modelo esta \"sobreajustado\", dado que nuestro modelo funciona en nuestros datos de entrenamiento, pero falla en hacer buenas predicciones en los datos de prueba ocultos."
      ],
      "metadata": {
        "id": "q_9asAwrCFAH"
      }
    },
    {
      "cell_type": "code",
      "source": [
        "rmse_train = np.sqrt(mean_squared_error(y_train, train_preds))\n",
        "rmse_test = np.sqrt(mean_squared_error(y_test, test_preds))\n",
        "\n",
        "print(rmse_train)\n",
        "print(rmse_test)"
      ],
      "metadata": {
        "colab": {
          "base_uri": "https://localhost:8080/"
        },
        "id": "wa4c8SJ1CwHN",
        "outputId": "18c32fca-8576-4f11-c772-0c827953204e"
      },
      "execution_count": 83,
      "outputs": [
        {
          "output_type": "stream",
          "name": "stdout",
          "text": [
            "0.5874850638405851\n",
            "71982369577.94118\n"
          ]
        }
      ]
    },
    {
      "cell_type": "markdown",
      "source": [
        "Con el RMSE confirmamos el sobreajuste del modelo y que no es una buena opción para la predicción de datos"
      ],
      "metadata": {
        "id": "d-rdlhXADqeL"
      }
    },
    {
      "cell_type": "markdown",
      "source": [
        "**Árbol de regresión**"
      ],
      "metadata": {
        "id": "P7UnkRYxGYU5"
      }
    },
    {
      "cell_type": "code",
      "source": [
        "#Instanciar modelo\n",
        "dec_tree = DecisionTreeRegressor(random_state = 42)\n",
        "\n",
        "#Entrenar modelo\n",
        "dec_tree.fit(X_train, y_train)"
      ],
      "metadata": {
        "colab": {
          "base_uri": "https://localhost:8080/",
          "height": 75
        },
        "id": "wCkzv64zGjpQ",
        "outputId": "c80902cd-2680-418d-b7fb-7fd118e9773e"
      },
      "execution_count": 87,
      "outputs": [
        {
          "output_type": "execute_result",
          "data": {
            "text/plain": [
              "DecisionTreeRegressor(random_state=42)"
            ],
            "text/html": [
              "<style>#sk-3eec29fe-4c4e-4173-acb3-63e6340309dc {color: black;background-color: white;}#sk-3eec29fe-4c4e-4173-acb3-63e6340309dc pre{padding: 0;}#sk-3eec29fe-4c4e-4173-acb3-63e6340309dc div.sk-toggleable {background-color: white;}#sk-3eec29fe-4c4e-4173-acb3-63e6340309dc label.sk-toggleable__label {cursor: pointer;display: block;width: 100%;margin-bottom: 0;padding: 0.3em;box-sizing: border-box;text-align: center;}#sk-3eec29fe-4c4e-4173-acb3-63e6340309dc label.sk-toggleable__label-arrow:before {content: \"▸\";float: left;margin-right: 0.25em;color: #696969;}#sk-3eec29fe-4c4e-4173-acb3-63e6340309dc label.sk-toggleable__label-arrow:hover:before {color: black;}#sk-3eec29fe-4c4e-4173-acb3-63e6340309dc div.sk-estimator:hover label.sk-toggleable__label-arrow:before {color: black;}#sk-3eec29fe-4c4e-4173-acb3-63e6340309dc div.sk-toggleable__content {max-height: 0;max-width: 0;overflow: hidden;text-align: left;background-color: #f0f8ff;}#sk-3eec29fe-4c4e-4173-acb3-63e6340309dc div.sk-toggleable__content pre {margin: 0.2em;color: black;border-radius: 0.25em;background-color: #f0f8ff;}#sk-3eec29fe-4c4e-4173-acb3-63e6340309dc input.sk-toggleable__control:checked~div.sk-toggleable__content {max-height: 200px;max-width: 100%;overflow: auto;}#sk-3eec29fe-4c4e-4173-acb3-63e6340309dc input.sk-toggleable__control:checked~label.sk-toggleable__label-arrow:before {content: \"▾\";}#sk-3eec29fe-4c4e-4173-acb3-63e6340309dc div.sk-estimator input.sk-toggleable__control:checked~label.sk-toggleable__label {background-color: #d4ebff;}#sk-3eec29fe-4c4e-4173-acb3-63e6340309dc div.sk-label input.sk-toggleable__control:checked~label.sk-toggleable__label {background-color: #d4ebff;}#sk-3eec29fe-4c4e-4173-acb3-63e6340309dc input.sk-hidden--visually {border: 0;clip: rect(1px 1px 1px 1px);clip: rect(1px, 1px, 1px, 1px);height: 1px;margin: -1px;overflow: hidden;padding: 0;position: absolute;width: 1px;}#sk-3eec29fe-4c4e-4173-acb3-63e6340309dc div.sk-estimator {font-family: monospace;background-color: #f0f8ff;border: 1px dotted black;border-radius: 0.25em;box-sizing: border-box;margin-bottom: 0.5em;}#sk-3eec29fe-4c4e-4173-acb3-63e6340309dc div.sk-estimator:hover {background-color: #d4ebff;}#sk-3eec29fe-4c4e-4173-acb3-63e6340309dc div.sk-parallel-item::after {content: \"\";width: 100%;border-bottom: 1px solid gray;flex-grow: 1;}#sk-3eec29fe-4c4e-4173-acb3-63e6340309dc div.sk-label:hover label.sk-toggleable__label {background-color: #d4ebff;}#sk-3eec29fe-4c4e-4173-acb3-63e6340309dc div.sk-serial::before {content: \"\";position: absolute;border-left: 1px solid gray;box-sizing: border-box;top: 2em;bottom: 0;left: 50%;}#sk-3eec29fe-4c4e-4173-acb3-63e6340309dc div.sk-serial {display: flex;flex-direction: column;align-items: center;background-color: white;padding-right: 0.2em;padding-left: 0.2em;}#sk-3eec29fe-4c4e-4173-acb3-63e6340309dc div.sk-item {z-index: 1;}#sk-3eec29fe-4c4e-4173-acb3-63e6340309dc div.sk-parallel {display: flex;align-items: stretch;justify-content: center;background-color: white;}#sk-3eec29fe-4c4e-4173-acb3-63e6340309dc div.sk-parallel::before {content: \"\";position: absolute;border-left: 1px solid gray;box-sizing: border-box;top: 2em;bottom: 0;left: 50%;}#sk-3eec29fe-4c4e-4173-acb3-63e6340309dc div.sk-parallel-item {display: flex;flex-direction: column;position: relative;background-color: white;}#sk-3eec29fe-4c4e-4173-acb3-63e6340309dc div.sk-parallel-item:first-child::after {align-self: flex-end;width: 50%;}#sk-3eec29fe-4c4e-4173-acb3-63e6340309dc div.sk-parallel-item:last-child::after {align-self: flex-start;width: 50%;}#sk-3eec29fe-4c4e-4173-acb3-63e6340309dc div.sk-parallel-item:only-child::after {width: 0;}#sk-3eec29fe-4c4e-4173-acb3-63e6340309dc div.sk-dashed-wrapped {border: 1px dashed gray;margin: 0 0.4em 0.5em 0.4em;box-sizing: border-box;padding-bottom: 0.4em;background-color: white;position: relative;}#sk-3eec29fe-4c4e-4173-acb3-63e6340309dc div.sk-label label {font-family: monospace;font-weight: bold;background-color: white;display: inline-block;line-height: 1.2em;}#sk-3eec29fe-4c4e-4173-acb3-63e6340309dc div.sk-label-container {position: relative;z-index: 2;text-align: center;}#sk-3eec29fe-4c4e-4173-acb3-63e6340309dc div.sk-container {/* jupyter's `normalize.less` sets `[hidden] { display: none; }` but bootstrap.min.css set `[hidden] { display: none !important; }` so we also need the `!important` here to be able to override the default hidden behavior on the sphinx rendered scikit-learn.org. See: https://github.com/scikit-learn/scikit-learn/issues/21755 */display: inline-block !important;position: relative;}#sk-3eec29fe-4c4e-4173-acb3-63e6340309dc div.sk-text-repr-fallback {display: none;}</style><div id=\"sk-3eec29fe-4c4e-4173-acb3-63e6340309dc\" class=\"sk-top-container\"><div class=\"sk-text-repr-fallback\"><pre>DecisionTreeRegressor(random_state=42)</pre><b>Please rerun this cell to show the HTML repr or trust the notebook.</b></div><div class=\"sk-container\" hidden><div class=\"sk-item\"><div class=\"sk-estimator sk-toggleable\"><input class=\"sk-toggleable__control sk-hidden--visually\" id=\"2edce46a-37f5-4eb3-9c6a-0ffc2672f868\" type=\"checkbox\" checked><label for=\"2edce46a-37f5-4eb3-9c6a-0ffc2672f868\" class=\"sk-toggleable__label sk-toggleable__label-arrow\">DecisionTreeRegressor</label><div class=\"sk-toggleable__content\"><pre>DecisionTreeRegressor(random_state=42)</pre></div></div></div></div></div>"
            ]
          },
          "metadata": {},
          "execution_count": 87
        }
      ]
    },
    {
      "cell_type": "code",
      "source": [
        "#Prediccoón\n",
        "train_preds_AR = dec_tree.predict(X_train)\n",
        "test_preds_AR = dec_tree.predict(X_test)\n",
        "test_preds_AR"
      ],
      "metadata": {
        "colab": {
          "base_uri": "https://localhost:8080/"
        },
        "id": "AHgvLwlVIbWF",
        "outputId": "77e3e657-b336-4465-daea-138c9c4cb921"
      },
      "execution_count": 113,
      "outputs": [
        {
          "output_type": "execute_result",
          "data": {
            "text/plain": [
              "array([-0.80618338, -0.54632465, -0.57071079, ...,  2.45570693,\n",
              "       -0.78394322, -0.4952113 ])"
            ]
          },
          "metadata": {},
          "execution_count": 113
        }
      ]
    },
    {
      "cell_type": "code",
      "source": [
        "# Rendimiento del modelo\n",
        "train_score = dec_tree.score(X_train, y_train)\n",
        "test_score = dec_tree.score(X_test, y_test)\n",
        "print(train_score)\n",
        "print(test_score)"
      ],
      "metadata": {
        "colab": {
          "base_uri": "https://localhost:8080/"
        },
        "id": "Cbmyx2LTIgOs",
        "outputId": "9b1d2e2e-5863-462b-b1c2-44763ac24ebb"
      },
      "execution_count": 92,
      "outputs": [
        {
          "output_type": "stream",
          "name": "stdout",
          "text": [
            "1.0\n",
            "0.2288963805872095\n"
          ]
        }
      ]
    },
    {
      "cell_type": "code",
      "source": [
        "#Hiperparámetros\n",
        "dec_tree.get_params()"
      ],
      "metadata": {
        "colab": {
          "base_uri": "https://localhost:8080/"
        },
        "id": "BAB-I-xbI_a9",
        "outputId": "964ac067-e673-462f-9002-e248782e1b63"
      },
      "execution_count": 96,
      "outputs": [
        {
          "output_type": "execute_result",
          "data": {
            "text/plain": [
              "{'ccp_alpha': 0.0,\n",
              " 'criterion': 'squared_error',\n",
              " 'max_depth': None,\n",
              " 'max_features': None,\n",
              " 'max_leaf_nodes': None,\n",
              " 'min_impurity_decrease': 0.0,\n",
              " 'min_samples_leaf': 1,\n",
              " 'min_samples_split': 2,\n",
              " 'min_weight_fraction_leaf': 0.0,\n",
              " 'random_state': 42,\n",
              " 'splitter': 'best'}"
            ]
          },
          "metadata": {},
          "execution_count": 96
        }
      ]
    },
    {
      "cell_type": "code",
      "source": [
        "# Parámetros para ajustar modelo\n",
        "# Lista de valores a probar para max_depth:\n",
        "max_depth_range = list(range(2, 36))# will try every value between 2 and 36\n",
        "# Lista para almacenar la puntuación para cada valor de max_depth:\n",
        "r2 = []\n",
        "for depth in max_depth_range:\n",
        "    dec_tree = DecisionTreeRegressor(max_depth = depth, \n",
        "                             random_state = 42)\n",
        "    dec_tree.fit(X_train, y_train)\n",
        "    score = dec_tree.score(X_test, y_test)\n",
        "    r2.append(score)"
      ],
      "metadata": {
        "id": "nppojeGuJMii"
      },
      "execution_count": 98,
      "outputs": []
    },
    {
      "cell_type": "code",
      "source": [
        "# Visualicen qué max_depth lleva a una puntuación R2 más alta\n",
        "import matplotlib.pyplot as plt\n",
        "plt.plot(max_depth_range, r2)\n",
        "plt.xlabel('max_depth')\n",
        "plt.ylabel('R2');"
      ],
      "metadata": {
        "colab": {
          "base_uri": "https://localhost:8080/",
          "height": 280
        },
        "id": "x-lbPhl5Jhrn",
        "outputId": "d4b2dd32-2611-4088-d9e5-7016aeb82831"
      },
      "execution_count": 99,
      "outputs": [
        {
          "output_type": "display_data",
          "data": {
            "text/plain": [
              "<Figure size 432x288 with 1 Axes>"
            ],
            "image/png": "[encoded data removed]"
          },
          "metadata": {
            "needs_background": "light"
          }
        }
      ]
    },
    {
      "cell_type": "code",
      "source": [
        "# Ejecutemos el modelo con nuestro valor optimizado para max_depth\n",
        "dec_tree_5 = DecisionTreeRegressor(max_depth = 5, random_state = 42)\n",
        "dec_tree_5.fit(X_train, y_train)\n",
        "train_5_score = dec_tree_5.score(X_train, y_train)\n",
        "test_5_score = dec_tree_5.score(X_test, y_test)\n",
        "print(train_5_score)\n",
        "print(test_5_score)"
      ],
      "metadata": {
        "colab": {
          "base_uri": "https://localhost:8080/"
        },
        "id": "oOJt4FGfJoBI",
        "outputId": "613e5e50-5281-4fb6-c718-04245cf91cd7"
      },
      "execution_count": 112,
      "outputs": [
        {
          "output_type": "stream",
          "name": "stdout",
          "text": [
            "0.6042066848171654\n",
            "0.5960564372160062\n"
          ]
        }
      ]
    },
    {
      "cell_type": "markdown",
      "source": [
        "Se observa que los resultados de entrenamiento y de prueba se acercaron (una señal que hemos reducido el sobreajuste) y que la puntuación de prueba ha mejorado."
      ],
      "metadata": {
        "id": "rvcxBkA9MxLv"
      }
    },
    {
      "cell_type": "code",
      "source": [
        "#Nueva Prediccoón\n",
        "train_preds_AR2 = dec_tree_5.predict(X_train)\n",
        "test_preds_AR2 = dec_tree_5.predict(X_test)\n",
        "test_preds_AR2"
      ],
      "metadata": {
        "colab": {
          "base_uri": "https://localhost:8080/"
        },
        "id": "PvmbapGwNNui",
        "outputId": "a566fe7d-c2d7-4bf2-91bd-7cc41e829610"
      },
      "execution_count": 116,
      "outputs": [
        {
          "output_type": "execute_result",
          "data": {
            "text/plain": [
              "array([-0.60933489, -0.85040891, -0.85040891, ...,  0.8240239 ,\n",
              "       -0.0927493 ,  0.19664966])"
            ]
          },
          "metadata": {},
          "execution_count": 116
        }
      ]
    },
    {
      "cell_type": "code",
      "source": [
        "r2_train_AR = r2_score(y_train, train_preds_AR2)\n",
        "r2_test_AR = r2_score(y_test, test_preds_AR2)\n",
        "\n",
        "rmse_train_AR = np.sqrt(mean_squared_error(y_train, train_preds_AR2))\n",
        "rmse_test_AR = np.sqrt(mean_squared_error(y_test, test_preds_AR2))\n",
        "\n",
        "\n",
        "\n",
        "print(\"Árbol de regresión\")\n",
        "print(\"R2\")\n",
        "print(r2_train_AR)\n",
        "print(r2_test_AR, '\\n')\n",
        "\n",
        "print(\"RMSE\")\n",
        "print(rmse_train_AR)\n",
        "print(rmse_test_AR)"
      ],
      "metadata": {
        "colab": {
          "base_uri": "https://localhost:8080/"
        },
        "id": "55P8aE-FM5mu",
        "outputId": "bb1d2536-6dee-4c8a-ba2f-9b2457f849b8"
      },
      "execution_count": 118,
      "outputs": [
        {
          "output_type": "stream",
          "name": "stdout",
          "text": [
            "Árbol de regresión\n",
            "R2\n",
            "0.6042066848171654\n",
            "0.5960564372160062 \n",
            "\n",
            "RMSE\n",
            "0.6342484783023514\n",
            "0.6186623585968912\n"
          ]
        }
      ]
    },
    {
      "cell_type": "markdown",
      "source": [
        "Finalmente se evidencia que los resultados de los modelos estan cercanos y el RMSE es bajo, lo cual nos indica la aproximidad de los valoes del modelo con los de predicción."
      ],
      "metadata": {
        "id": "e3HT-AIcSQrV"
      }
    },
    {
      "cell_type": "markdown",
      "source": [
        "## Conclusiones\n",
        "\n",
        "* Para un modelo con variables multiclase, se evidencia que el ideal es el Árbol de regresión, el cual con el ajuste de los hiperparpametros los valres de entretamiento y prueba estan cercanos y cuenta con un RMSE bajo.\n",
        "\n",
        "* Finalmente, se presenta al cliente el modelo que nos genera la predicción de ventas para productos alimenticios vendidos en diversas tiendas, con lo cual podrán entender como actuar en los diferentes sectores cuales son los productos que se dben ofrecer y tener una referencia de coo impulsar otros."
      ],
      "metadata": {
        "id": "715MT6ktVNzD"
      }
    },
    {
      "cell_type": "markdown",
      "source": [
        "## Recomendaciones\n",
        "\n",
        "* Aunque nuestro resultado muestra que el modelo no esta sobreajustado, se recomienda analizar otros modelos multiclase que nos generen un rendimiento mas cercano a 1."
      ],
      "metadata": {
        "id": "4aT7WENHVOro"
      }
    },
    {
      "cell_type": "markdown",
      "source": [
        "## Referencias\n",
        "\n",
        "* [Curso MAT281_2022](https://github.com/fralfaro/MAT281_2022)\n",
        "* [Curso CodingDojo-DataScience](https://github.com/fralfaro/CodingDojo-DataScience)"
      ],
      "metadata": {
        "id": "YR5hMON0VT7e"
      }
    }
  ]
}