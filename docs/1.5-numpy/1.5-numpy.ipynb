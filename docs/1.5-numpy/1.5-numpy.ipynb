{
 "cells": [
  {
   "cell_type": "markdown",
   "id": "712c2e9f",
   "metadata": {},
   "source": [
    "<a href=\"https://colab.research.google.com/github/fralfaro/CodingDojo-DataScience/blob/main/docs/1.5-numpy/1.5-numpy.ipynb\" target=\"_parent\"><img src=\"https://colab.research.google.com/assets/colab-badge.svg\" alt=\"Open In Colab\"/></a>\n",
    "\n",
    "\n",
    "# Numpy\n",
    "\n",
    "<img src=\"https://raw.githubusercontent.com/fralfaro/MAT281_2022/main/docs/lectures/data_manipulation/scientific_computing/images/numpy.jpeg\" alt=\"Italian Trulli\">\n",
    "\n",
    "## Introducción\n",
    "\n",
    "[NumPy](https://numpy.org/) es el paquete fundamental para la computación científica con Python. Contiene entre otras cosas:\n",
    "\n",
    "* un poderoso objeto de matriz N-dimensional\n",
    "* funciones sofisticadas (de transmisión)\n",
    "* herramientas para integrar código C / C ++ y Fortran\n",
    "* Álgebra lineal útil, transformada de Fourier y capacidades de números aleatorios\n",
    "\n",
    "Además de sus obvios usos científicos, *NumPy* también se puede utilizar como un eficiente contenedor multidimensional de datos genéricos. Se pueden definir tipos de datos arbitrarios. Esto permite que NumPy se integre sin problemas y rápidamente con una amplia variedad de bases de datos.\n",
    "\n",
    "> *NumPy* tiene licencia bajo la licencia BSD, lo que permite su reutilización con pocas restricciones.\n",
    "\n",
    "### ¿ Por qué usar Numpy ?\n",
    "Las razones por las que debería usar *NumPy* en lugar de cualquier otro objeto _iterable en Python son:\n",
    "\n",
    "* NumPy proporciona una estructura de ndarray para almacenar datos numéricos de manera contigua.\n",
    "* También implementa operaciones matemáticas rápidas en ndarrays, que explotan esta contigüidad.\n",
    "* Brevedad de la sintaxis para las operaciones de matriz."
   ]
  },
  {
   "cell_type": "markdown",
   "id": "2070d9d6",
   "metadata": {},
   "source": [
    "## Conceptos básicos\n",
    "\n",
    "### Manipulación de datos\n",
    "\n",
    "En esta sección se presentan operaciones básicas de los arreglos de numpy.\n",
    "\n",
    "\n",
    "\n"
   ]
  },
  {
   "cell_type": "code",
   "execution_count": 3,
   "id": "82d58533",
   "metadata": {},
   "outputs": [],
   "source": [
    "import numpy as np"
   ]
  },
  {
   "cell_type": "code",
   "execution_count": 3,
   "id": "5e22941c",
   "metadata": {},
   "outputs": [
    {
     "name": "stdout",
     "output_type": "stream",
     "text": [
      "[1 2 3 4 5]\n"
     ]
    }
   ],
   "source": [
    "# vector\n",
    "vector = np.array([1,2,3,4,5])\n",
    "print(vector)"
   ]
  },
  {
   "cell_type": "code",
   "execution_count": 4,
   "id": "ae87bb11",
   "metadata": {},
   "outputs": [
    {
     "name": "stdout",
     "output_type": "stream",
     "text": [
      "[[ 1  2  3  4]\n",
      " [ 5  6  7  8]\n",
      " [ 9 10 11 12]]\n"
     ]
    }
   ],
   "source": [
    "# matriz \n",
    "matriz = np.array([\n",
    "    [1,2,3,4], \n",
    "    [5,6,7,8],\n",
    "    [9,10,11,12]\n",
    "])\n",
    "print(matriz)"
   ]
  },
  {
   "cell_type": "code",
   "execution_count": 5,
   "id": "7c5921c4",
   "metadata": {},
   "outputs": [
    {
     "data": {
      "text/plain": [
       "numpy.ndarray"
      ]
     },
     "execution_count": 5,
     "metadata": {},
     "output_type": "execute_result"
    }
   ],
   "source": [
    "### tipo\n",
    "type(matriz)"
   ]
  },
  {
   "cell_type": "code",
   "execution_count": 6,
   "id": "8ed8e80b",
   "metadata": {},
   "outputs": [
    {
     "name": "stdout",
     "output_type": "stream",
     "text": [
      "first row: \n",
      " [1 2 3 4] \n",
      "\n",
      "first col: \n",
      " [1 5 9] \n",
      "\n",
      "first and second rows: \n",
      " [[1 2 3 4]\n",
      " [5 6 7 8]] \n",
      "\n",
      "first and second cols: \n",
      " [[ 1  2]\n",
      " [ 5  6]\n",
      " [ 9 10]] \n",
      "\n"
     ]
    }
   ],
   "source": [
    "### Escoger filas y columnas\n",
    "print(f\"first row: \\n {matriz[0]} \\n\")\n",
    "print(f\"first col: \\n {matriz[:,0]} \\n\")\n",
    "print(f\"first and second rows: \\n {matriz[:2]} \\n\")\n",
    "print(f\"first and second cols: \\n {matriz[:,:2]} \\n\")"
   ]
  },
  {
   "cell_type": "markdown",
   "id": "a7f1f43c",
   "metadata": {},
   "source": [
    "### Operaciones Básicas\n",
    "\n",
    "Operaciones matemáticas básicas de matrices\n",
    "La mayoría de las operaciones realizadas en NumPy se manejan por elementos, es decir, calcular $C = A + B$ se traducirá en $ C [i, j] = A [i, j] + B [i, j] $.\n",
    "\n",
    "A continuación hay una lista con las operaciones matemáticas más comunes."
   ]
  },
  {
   "cell_type": "code",
   "execution_count": 7,
   "id": "ba7fcec9",
   "metadata": {},
   "outputs": [
    {
     "name": "stdout",
     "output_type": "stream",
     "text": [
      "Matrix A: \n",
      " [[1 2 3]\n",
      " [4 5 6]\n",
      " [7 8 9]] \n",
      "\n",
      "Matrix B: \n",
      " [[9 8 7]\n",
      " [6 5 4]\n",
      " [3 2 1]]\n"
     ]
    }
   ],
   "source": [
    "# crear dos arreglos\n",
    "A = np.array([\n",
    "    [1,2,3],\n",
    "    [4,5,6],\n",
    "    [7,8,9]\n",
    "])\n",
    "\n",
    "B = np.array([[9,8,7],[6,5,4],[3,2,1]])\n",
    "\n",
    "print(f\"Matrix A: \\n {A} \\n\")\n",
    "print(f\"Matrix B: \\n {B}\")"
   ]
  },
  {
   "cell_type": "code",
   "execution_count": 8,
   "id": "fad24447",
   "metadata": {},
   "outputs": [
    {
     "name": "stdout",
     "output_type": "stream",
     "text": [
      "Sum:\n",
      "[[10 10 10]\n",
      " [10 10 10]\n",
      " [10 10 10]]\n"
     ]
    }
   ],
   "source": [
    "# suma\n",
    "print(\"Sum:\")\n",
    "print( A+B )"
   ]
  },
  {
   "cell_type": "code",
   "execution_count": 9,
   "id": "3b6ae2ad",
   "metadata": {},
   "outputs": [
    {
     "name": "stdout",
     "output_type": "stream",
     "text": [
      "\n",
      "Subtraction\n",
      "[[-8 -6 -4]\n",
      " [-2  0  2]\n",
      " [ 4  6  8]]\n"
     ]
    }
   ],
   "source": [
    "# resta\n",
    "print(\"\\nSubtraction\")\n",
    "print( A-B )"
   ]
  },
  {
   "cell_type": "code",
   "execution_count": 10,
   "id": "7188ee74",
   "metadata": {},
   "outputs": [
    {
     "name": "stdout",
     "output_type": "stream",
     "text": [
      "\n",
      "Product\n",
      "[[ 9 16 21]\n",
      " [24 25 24]\n",
      " [21 16  9]]\n"
     ]
    }
   ],
   "source": [
    "# producto uno a uno\n",
    "print(\"\\nProduct\")\n",
    "print( A*B )"
   ]
  },
  {
   "cell_type": "code",
   "execution_count": 11,
   "id": "ce9d9e73",
   "metadata": {},
   "outputs": [
    {
     "name": "stdout",
     "output_type": "stream",
     "text": [
      "\n",
      "Matricial Product\n",
      "[[ 30  24  18]\n",
      " [ 84  69  54]\n",
      " [138 114  90]]\n"
     ]
    }
   ],
   "source": [
    "# producto matricial\n",
    "print(\"\\nMatricial Product\")\n",
    "print( np.dot(A,B) )"
   ]
  },
  {
   "cell_type": "code",
   "execution_count": 13,
   "id": "f58f872a",
   "metadata": {},
   "outputs": [
    {
     "name": "stdout",
     "output_type": "stream",
     "text": [
      "\n",
      " Power\n",
      "[[ 1  4  9]\n",
      " [16 25 36]\n",
      " [49 64 81]]\n"
     ]
    }
   ],
   "source": [
    "# potencia\n",
    "print(\"\\n Power\")\n",
    "print( A**2 )"
   ]
  },
  {
   "cell_type": "code",
   "execution_count": 12,
   "id": "29fedfa3",
   "metadata": {},
   "outputs": [
    {
     "name": "stdout",
     "output_type": "stream",
     "text": [
      "\n",
      " np.exp()\n",
      "[[2.71828183e+00 7.38905610e+00 2.00855369e+01]\n",
      " [5.45981500e+01 1.48413159e+02 4.03428793e+02]\n",
      " [1.09663316e+03 2.98095799e+03 8.10308393e+03]]\n",
      "\n",
      " np.sin()\n",
      "[[ 0.84147098  0.90929743  0.14112001]\n",
      " [-0.7568025  -0.95892427 -0.2794155 ]\n",
      " [ 0.6569866   0.98935825  0.41211849]]\n",
      "\n",
      " np.cos()\n",
      "[[ 0.54030231 -0.41614684 -0.9899925 ]\n",
      " [-0.65364362  0.28366219  0.96017029]\n",
      " [ 0.75390225 -0.14550003 -0.91113026]]\n",
      "\n",
      " np.tan()\n",
      "[[ 1.55740772 -2.18503986 -0.14254654]\n",
      " [ 1.15782128 -3.38051501 -0.29100619]\n",
      " [ 0.87144798 -6.79971146 -0.45231566]]\n"
     ]
    }
   ],
   "source": [
    "# algunas funciones comunes \n",
    "print(\"\\n np.exp()\")\n",
    "print( np.exp(A) )\n",
    "print(\"\\n np.sin()\")\n",
    "print( np.sin(A) )\n",
    "print(\"\\n np.cos()\")\n",
    "print( np.cos(A))\n",
    "print(\"\\n np.tan()\")\n",
    "print( np.tan(A) )"
   ]
  },
  {
   "cell_type": "markdown",
   "id": "0269d4ef",
   "metadata": {},
   "source": [
    "### Broadcasting\n",
    "\n",
    "Unas de las ventajas de numpy es que podemos hacer broadcasting, es to significa que numpy permite realizar operaciones binarias con arreglos de distintos tamaños.\n",
    "\n",
    "<img src=\"https://raw.githubusercontent.com/fralfaro/MAT281_2022/main/docs/lectures/data_manipulation/scientific_computing/images/broad.png\" alt=\"Italian Trulli\">"
   ]
  },
  {
   "cell_type": "code",
   "execution_count": 14,
   "id": "60ad4c00",
   "metadata": {},
   "outputs": [
    {
     "name": "stdout",
     "output_type": "stream",
     "text": [
      "np.arange(3)+ 5:\n",
      "[5 6 7]\n"
     ]
    }
   ],
   "source": [
    "# example 01\n",
    "a = np.arange(3)+ 5\n",
    "print(f\"np.arange(3)+ 5:\\n{a}\" )"
   ]
  },
  {
   "cell_type": "code",
   "execution_count": 15,
   "id": "e0e51e8e",
   "metadata": {},
   "outputs": [
    {
     "name": "stdout",
     "output_type": "stream",
     "text": [
      "np.ones((3,3))+np.arange(3):\n",
      "[[1. 2. 3.]\n",
      " [1. 2. 3.]\n",
      " [1. 2. 3.]]\n"
     ]
    }
   ],
   "source": [
    "# example 02\n",
    "b = np.ones((3,3))+np.arange(3)\n",
    "print(f\"np.ones((3,3))+np.arange(3):\\n{b}\" )"
   ]
  },
  {
   "cell_type": "code",
   "execution_count": 16,
   "id": "0bdeee3b",
   "metadata": {},
   "outputs": [
    {
     "name": "stdout",
     "output_type": "stream",
     "text": [
      "np.arange(3).reshape((3,1)) +  np.arange(3):\n",
      "[[0 1 2]\n",
      " [1 2 3]\n",
      " [2 3 4]]\n"
     ]
    }
   ],
   "source": [
    "# example 03\n",
    "c = np.arange(3).reshape((3,1)) +  np.arange(3)\n",
    "print(f\"np.arange(3).reshape((3,1)) +  np.arange(3):\\n{c }\" )"
   ]
  },
  {
   "cell_type": "markdown",
   "id": "02499135",
   "metadata": {},
   "source": [
    "\n",
    "## Python Lists vs. Numpy Arrays\n",
    "\n",
    "La librería principal de Python son las listas. Una lista es el equivalente a Python de una matriz, pero es redimensionable y puede contener elementos de diferentes tipos.\n",
    "\n",
    "Una pregunta común para principiantes es cuál es la verdadera diferencia aquí. La respuesta es el rendimiento. Las estructuras de datos de Numpy funcionan mejor en:\n",
    "\n",
    "* **Tamaño**: las estructuras de datos de Numpy ocupan menos espacio\n",
    "* **Rendimiento**: necesitan velocidad y son más rápidos que las listas\n",
    "* **Funcionalidad**: SciPy y NumPy tienen funciones optimizadas, como las operaciones de álgebra lineal integradas.\n",
    "\n",
    "\n",
    "### Memoria\n",
    "Los principales beneficios del uso de matrices NumPy deberían ser un menor consumo de memoria y un mejor comportamiento en tiempo de ejecución.\n",
    "\n",
    "Para las listas de Python: podemos concluir de esto que para cada elemento nuevo, necesitamos otros ocho bytes para la referencia al nuevo objeto. El nuevo objeto entero en sí consume 28 bytes. El tamaño de una lista lst sin el tamaño de los elementos se puede calcular con:\n",
    "\n",
    "```\n",
    "                    64 + 8 * len (lst) + + len (lst) * 28\n",
    "\n",
    "```\n",
    "\n",
    "<img src=\"https://raw.githubusercontent.com/fralfaro/MAT281_2022/main/docs/lectures/data_manipulation/scientific_computing/images/list_structure.png\" alt=\"Italian Trulli\">"
   ]
  },
  {
   "cell_type": "markdown",
   "id": "5471119e",
   "metadata": {},
   "source": [
    "NumPy ocupa menos espacio. Esto significa que una matriz entera arbitraria de longitud n en necesidades numpy se calcula por:\n",
    "\n",
    "```\n",
    "                    96 + n * 8 bytes\n",
    "\n",
    "```\n",
    "\n",
    "<img src=\"https://raw.githubusercontent.com/fralfaro/MAT281_2022/main/docs/lectures/data_manipulation/scientific_computing/images/array_structure.png\" alt=\"Italian Trulli\">"
   ]
  },
  {
   "cell_type": "markdown",
   "id": "b4fa51f7",
   "metadata": {},
   "source": [
    "Para convensernos de esto, ejecutemos un ejemplo:\n",
    "\n"
   ]
  },
  {
   "cell_type": "code",
   "execution_count": 6,
   "id": "5a4cb4f2",
   "metadata": {},
   "outputs": [],
   "source": [
    "# example\n",
    "\n",
    "import time\n",
    "import sys\n",
    "\n",
    "# class: array\n",
    "class Array:\n",
    "    \"\"\"\n",
    "    Clase array que da como rsultado el tiempo y espacio en \n",
    "    memoria de los objetos list y numpy array\n",
    "    \"\"\"\n",
    "    def __init__(self, size_of_vec):\n",
    "        self.size_of_vec = size_of_vec\n",
    "\n",
    "    def pure_python_version(self):\n",
    "        \"\"\"\n",
    "        Tiempo y espacio en memoria para objeto list\n",
    "        \"\"\"\n",
    "        t1 = time.time()\n",
    "        X = range(self.size_of_vec)\n",
    "        Y = range(self.size_of_vec)\n",
    "        Z = [X[i] + Y[i] for i in range(len(X)) ]\n",
    "        return (time.time() - t1,sys.getsizeof(Z) )\n",
    "        \n",
    "    def numpy_version(self):\n",
    "        \"\"\"\n",
    "        Tiempo y espacio en memoria para objeto numpy array\n",
    "        \"\"\"\n",
    "        t1 = time.time()\n",
    "        X = np.arange(self.size_of_vec)\n",
    "        Y = np.arange(self.size_of_vec)\n",
    "        Z = X + Y\n",
    "        return (time.time() - t1,sys.getsizeof(Z) )"
   ]
  },
  {
   "cell_type": "code",
   "execution_count": 7,
   "id": "b3269b14",
   "metadata": {},
   "outputs": [],
   "source": [
    "# parameters\n",
    "size_of_vec = 1000000\n",
    "class_array = Array(size_of_vec)\n",
    "\n",
    "t1, size1 = class_array.pure_python_version()\n",
    "t2, size2 = class_array.numpy_version()"
   ]
  },
  {
   "cell_type": "code",
   "execution_count": 8,
   "id": "04e1db18",
   "metadata": {},
   "outputs": [
    {
     "name": "stdout",
     "output_type": "stream",
     "text": [
      "python list -- time: 0.21736741 seg, size: 8697456 bytes\n",
      "numpy array -- time: 0.00199819 seg, size: 4000112 bytes\n"
     ]
    }
   ],
   "source": [
    "# results\n",
    "print(f\"python list -- time: {round(t1,8)} seg, size: {size1} bytes\")\n",
    "print(f\"numpy array -- time: {round(t2,8)} seg, size: {size2} bytes\")"
   ]
  },
  {
   "cell_type": "markdown",
   "id": "3458dbcd",
   "metadata": {},
   "source": [
    "## Ejemplo\n",
    "\n",
    "**Lista de precios:**\n",
    "\n",
    "El precio de venta de 3 artículos en la venta de pasteles es: 2 dolares por un brownie,  1 dolar por una galleta y 10 dolares por un pastel. \n",
    "\n",
    "Asignen estos valores a una lista denominada price (precio)."
   ]
  },
  {
   "cell_type": "code",
   "execution_count": 17,
   "id": "2ef564e1",
   "metadata": {},
   "outputs": [
    {
     "data": {
      "text/plain": [
       "list"
      ]
     },
     "execution_count": 17,
     "metadata": {},
     "output_type": "execute_result"
    }
   ],
   "source": [
    "price = [2, 1, 10]\n",
    "type(price)"
   ]
  },
  {
   "cell_type": "markdown",
   "id": "416b0ecf",
   "metadata": {},
   "source": [
    "**Lista de cantidad:**\n",
    "\n",
    "El club vende 17 brownies, 40 galletas y un pastel.  \n",
    "\n",
    "Asignen estos valores a una lista denominada quantity_sold (cantidades vendidas)."
   ]
  },
  {
   "cell_type": "code",
   "execution_count": 19,
   "id": "4ff975e8",
   "metadata": {},
   "outputs": [
    {
     "data": {
      "text/plain": [
       "list"
      ]
     },
     "execution_count": 19,
     "metadata": {},
     "output_type": "execute_result"
    }
   ],
   "source": [
    "quantity_sold = [17, 40, 1]\n",
    "type(quantity_sold)"
   ]
  },
  {
   "cell_type": "markdown",
   "id": "8e671157",
   "metadata": {},
   "source": [
    "**No podemos realizar cálculos entre las listas**\n",
    "\n",
    "Ahora debemos encontrar el dinero recaudado para cada tipo de elemento.  Queremos el precio * cantidad para cada elemento.  Tratemos de multiplicar nuestras listas:"
   ]
  },
  {
   "cell_type": "code",
   "execution_count": 20,
   "id": "6c46967b",
   "metadata": {},
   "outputs": [
    {
     "ename": "TypeError",
     "evalue": "can't multiply sequence by non-int of type 'list'",
     "output_type": "error",
     "traceback": [
      "\u001b[1;31m---------------------------------------------------------------------------\u001b[0m",
      "\u001b[1;31mTypeError\u001b[0m                                 Traceback (most recent call last)",
      "Input \u001b[1;32mIn [20]\u001b[0m, in \u001b[0;36m<cell line: 1>\u001b[1;34m()\u001b[0m\n\u001b[1;32m----> 1\u001b[0m \u001b[43mprice\u001b[49m\u001b[43m \u001b[49m\u001b[38;5;241;43m*\u001b[39;49m\u001b[43m \u001b[49m\u001b[43mquantity_sold\u001b[49m\n",
      "\u001b[1;31mTypeError\u001b[0m: can't multiply sequence by non-int of type 'list'"
     ]
    }
   ],
   "source": [
    "price * quantity_sold"
   ]
  },
  {
   "cell_type": "markdown",
   "id": "4386448f",
   "metadata": {},
   "source": [
    "**Convertir una lista a un array de NumPy**\n",
    "\n",
    " Puesto que ya creamos listas para el precio y cantidad, podemos convertir estos a arrays usando el siguiente código:"
   ]
  },
  {
   "cell_type": "code",
   "execution_count": 28,
   "id": "bce3d952",
   "metadata": {},
   "outputs": [
    {
     "data": {
      "text/plain": [
       "numpy.ndarray"
      ]
     },
     "execution_count": 28,
     "metadata": {},
     "output_type": "execute_result"
    }
   ],
   "source": [
    "price_array = np.array(price)\n",
    "quantity_sold_array = np.array(quantity_sold)\n",
    "type(price_array)"
   ]
  },
  {
   "cell_type": "markdown",
   "id": "dcf73f29",
   "metadata": {},
   "source": [
    "**Podemos realizar cálculos con arrays**\n",
    "\n",
    "Ahora regresemos a nuestro problema original: encontrar el dinero recaudado para cada tipo de elemento.  Queremos el **precio * cantidad** para cada elemento. Tratemos de multiplicar nuestros arrays."
   ]
  },
  {
   "cell_type": "code",
   "execution_count": 29,
   "id": "bfbcc8ff",
   "metadata": {},
   "outputs": [
    {
     "data": {
      "text/plain": [
       "array([34, 40, 10])"
      ]
     },
     "execution_count": 29,
     "metadata": {},
     "output_type": "execute_result"
    }
   ],
   "source": [
    "price_array * quantity_sold_array"
   ]
  },
  {
   "cell_type": "markdown",
   "id": "d41b8c9d",
   "metadata": {},
   "source": [
    "**Cálculos por elementos**\n",
    "\n",
    "Creen un array de NumPy que corresponda al costo de fabricación de cada uno de los artículos vendidos en la venta de pasteles.  Digamos que cuesta 0.25 dolares para hacer un brownie, una galleta,  0.50 dolares y un pastel, 5.00 dolares."
   ]
  },
  {
   "cell_type": "code",
   "execution_count": 30,
   "id": "6ffe40b4",
   "metadata": {},
   "outputs": [],
   "source": [
    "cost_array = np.array([0.25, 0.50, 5.00])"
   ]
  },
  {
   "cell_type": "markdown",
   "id": "ef4081ff",
   "metadata": {},
   "source": [
    "Para encontrar la ganancia de cada artículo, queremos restar el costo del precio. Una matriz NumPy realizará la resta por elementos como se muestra:"
   ]
  },
  {
   "cell_type": "code",
   "execution_count": 31,
   "id": "b9485cb7",
   "metadata": {},
   "outputs": [
    {
     "name": "stdout",
     "output_type": "stream",
     "text": [
      "[1.75 0.5  5.  ]\n"
     ]
    }
   ],
   "source": [
    "profit_array = price_array - cost_array\n",
    "print(profit_array)"
   ]
  },
  {
   "cell_type": "markdown",
   "id": "36ca9637",
   "metadata": {},
   "source": [
    "**Booleanos elementwise**\n",
    "\n",
    "Supongamos que quieren identificar qué elementos obtuvieron un beneficio superior a 2 dolares por elemento.  Pueden usar el siguiente código para preguntar si la declaración es True (verdadera) o False (falsa) para cada elemento en el array."
   ]
  },
  {
   "cell_type": "code",
   "execution_count": 32,
   "id": "15a74fde",
   "metadata": {},
   "outputs": [
    {
     "data": {
      "text/plain": [
       "array([False, False,  True])"
      ]
     },
     "execution_count": 32,
     "metadata": {},
     "output_type": "execute_result"
    }
   ],
   "source": [
    "profit_array > 2.00"
   ]
  },
  {
   "cell_type": "markdown",
   "id": "b7216997",
   "metadata": {},
   "source": [
    "**Otras Operaciones**\n",
    "\n"
   ]
  },
  {
   "cell_type": "code",
   "execution_count": 35,
   "id": "c3df47c6",
   "metadata": {},
   "outputs": [
    {
     "name": "stdout",
     "output_type": "stream",
     "text": [
      "[ 9  8 17]\n"
     ]
    }
   ],
   "source": [
    "# adicion\n",
    "price_array2 = price_array + 7\n",
    "print(price_array2)"
   ]
  },
  {
   "cell_type": "code",
   "execution_count": 36,
   "id": "f6521b81",
   "metadata": {},
   "outputs": [
    {
     "name": "stdout",
     "output_type": "stream",
     "text": [
      "[ 2.   1.  10.   4.5  3.   4.   9. ]\n"
     ]
    }
   ],
   "source": [
    "# agregar elementos\n",
    "price_array = np.append(price_array, [4.50, 3, 4, 9])\n",
    "print(price_array)"
   ]
  },
  {
   "cell_type": "code",
   "execution_count": 37,
   "id": "bea91f45",
   "metadata": {},
   "outputs": [
    {
     "name": "stdout",
     "output_type": "stream",
     "text": [
      "[ 2.   1.  10.   4.5  3.   4. ]\n"
     ]
    }
   ],
   "source": [
    "# Eliminar\n",
    "price_array = np.delete(price_array, -1)\n",
    "print(price_array)"
   ]
  },
  {
   "cell_type": "code",
   "execution_count": 38,
   "id": "c09d9a8e",
   "metadata": {},
   "outputs": [
    {
     "name": "stdout",
     "output_type": "stream",
     "text": [
      "[ 2.   1.  12.   4.5  3.   4. ]\n"
     ]
    }
   ],
   "source": [
    "# reemplazar\n",
    "price_array[2] = 12\n",
    "print(price_array)"
   ]
  },
  {
   "cell_type": "markdown",
   "id": "6f693417",
   "metadata": {},
   "source": [
    "## Referencias\n",
    "\n",
    "* [Quickstart tutorial-numpy](https://numpy.org/doc/stable/user/quickstart.html)\n",
    "* [Mathematical functions](https://numpy.org/doc/stable/reference/routines.math.html)\n"
   ]
  }
 ],
 "metadata": {
  "kernelspec": {
   "display_name": "Python 3 (ipykernel)",
   "language": "python",
   "name": "python3"
  },
  "language_info": {
   "codemirror_mode": {
    "name": "ipython",
    "version": 3
   },
   "file_extension": ".py",
   "mimetype": "text/x-python",
   "name": "python",
   "nbconvert_exporter": "python",
   "pygments_lexer": "ipython3",
   "version": "3.8.10"
  }
 },
 "nbformat": 4,
 "nbformat_minor": 5
}
