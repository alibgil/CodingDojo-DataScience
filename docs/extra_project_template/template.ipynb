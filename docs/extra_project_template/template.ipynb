{
 "cells": [
  {
   "cell_type": "markdown",
   "id": "ccc005e4",
   "metadata": {},
   "source": [
    "<a href=\"https://colab.research.google.com/github/fralfaro/CD-DS-Course/blob/main/docs/extra_project_template/template.ipynb\" target=\"_parent\"><img src=\"https://colab.research.google.com/assets/colab-badge.svg\" alt=\"Open In Colab\"/></a>\n",
    "\n",
    "# Template - Examen de Cinturón\n",
    "\n",
    "## Datos Personales\n",
    "\n",
    "* **Nombre Completo**: Francisco Alfaro Medina\n",
    "* **ID Coding Dojo**: 00001\n",
    "* **Track**: Data Science Fundamentals\n",
    "* **Nombre del examen**: Employee Attrition\n",
    "* **Intento**: 1"
   ]
  },
  {
   "cell_type": "markdown",
   "id": "eb011589",
   "metadata": {},
   "source": [
    "## Descripción del Problema\n",
    "\n",
    "Your task is to clean and explore a dataset for HR executives that describes trends in their employee data related to attrition. A data dictionary can be found at the bottom of this page...\n",
    "\n",
    "### Descripción del Conjunto de Datos\n",
    "\n",
    "| Column Name    | Data Type | Description                                                                               |\n",
    "|----------------|-----------|-------------------------------------------------------------------------------------------|\n",
    "| Age            | int       | Age of employee                                                                           |\n",
    "| Attrition      | Object    | Employee leaving the company (no or yes)                                                  |\n",
    "| BusinessTravel | Object    | How much the employee travels for work (no travel, travels frequently, or travels rarely) |\n",
    "| ...            | ...       | ...                                                                                       |\n",
    "\n",
    "\n",
    "> **Nota**: utilizar [Tables Generator](https://www.tablesgenerator.com/markdown_tables) para generar tablas en markdown."
   ]
  },
  {
   "cell_type": "markdown",
   "id": "bd05e80d",
   "metadata": {},
   "source": [
    "## Solución"
   ]
  },
  {
   "cell_type": "code",
   "execution_count": 5,
   "id": "2f2af813",
   "metadata": {},
   "outputs": [],
   "source": [
    "# librerias\n",
    " \n",
    "import numpy as np\n",
    "import pandas as pd\n",
    "\n",
    "import matplotlib.pyplot as plt\n",
    "import seaborn as sns \n",
    "\n",
    "from sklearn import datasets\n",
    "from sklearn.model_selection import train_test_split\n",
    "from sklearn.linear_model import LinearRegression\n",
    "\n",
    "# Ver gráficos de matplotlib en jupyter notebook/lab\n",
    "%matplotlib inline"
   ]
  },
  {
   "cell_type": "markdown",
   "id": "189e133c",
   "metadata": {},
   "source": [
    "### I.- Análisis Exploratorio"
   ]
  },
  {
   "cell_type": "markdown",
   "id": "7e6600f4",
   "metadata": {},
   "source": [
    "#### Manipulación de datos"
   ]
  },
  {
   "cell_type": "code",
   "execution_count": 2,
   "id": "0b06bb13",
   "metadata": {},
   "outputs": [],
   "source": [
    "# solucion"
   ]
  },
  {
   "cell_type": "markdown",
   "id": "6ccb51d0",
   "metadata": {},
   "source": [
    "**Conclusiones Intermedias**: ..."
   ]
  },
  {
   "cell_type": "markdown",
   "id": "e4ef584c",
   "metadata": {},
   "source": [
    "#### Visualizaciones"
   ]
  },
  {
   "cell_type": "code",
   "execution_count": 3,
   "id": "d7c20f26",
   "metadata": {},
   "outputs": [],
   "source": [
    "# solucion"
   ]
  },
  {
   "cell_type": "markdown",
   "id": "f5507a69",
   "metadata": {},
   "source": [
    "**Conclusiones Intermedias**: ..."
   ]
  },
  {
   "cell_type": "markdown",
   "id": "b7e48f52",
   "metadata": {},
   "source": [
    "### II.- Modelos"
   ]
  },
  {
   "cell_type": "markdown",
   "id": "0fb196aa",
   "metadata": {},
   "source": [
    "#### Feature engineering"
   ]
  },
  {
   "cell_type": "code",
   "execution_count": 1,
   "id": "47d09f77",
   "metadata": {},
   "outputs": [],
   "source": [
    "# solucion"
   ]
  },
  {
   "cell_type": "markdown",
   "id": "1b5d2b1c",
   "metadata": {},
   "source": [
    "**Conclusiones Intermedias**: ..."
   ]
  },
  {
   "cell_type": "markdown",
   "id": "494e7164",
   "metadata": {},
   "source": [
    "#### Entrenamiento de modelos"
   ]
  },
  {
   "cell_type": "code",
   "execution_count": 2,
   "id": "c2d8f9e7",
   "metadata": {},
   "outputs": [],
   "source": [
    "# solucion"
   ]
  },
  {
   "cell_type": "markdown",
   "id": "6b0a2d4d",
   "metadata": {},
   "source": [
    "**Conclusiones Intermedias**: ..."
   ]
  },
  {
   "cell_type": "markdown",
   "id": "b7c75138",
   "metadata": {},
   "source": [
    "#### Evaluación de modelos"
   ]
  },
  {
   "cell_type": "code",
   "execution_count": 4,
   "id": "11ff347f",
   "metadata": {},
   "outputs": [],
   "source": [
    "# solucion"
   ]
  },
  {
   "cell_type": "markdown",
   "id": "efc19dfa",
   "metadata": {},
   "source": [
    "**Conclusiones Intermedias**: ..."
   ]
  },
  {
   "cell_type": "markdown",
   "id": "36a8c534",
   "metadata": {},
   "source": [
    "## Conclusiones Generales\n",
    "\n",
    "* Conclusión 01\n",
    "* Conclusión 02\n",
    "* ...\n"
   ]
  },
  {
   "cell_type": "markdown",
   "id": "8273c23d",
   "metadata": {},
   "source": [
    "## Referencias\n",
    "\n",
    "* [Curso Coding Dojo - Data Science](https://github.com/fralfaro/CD-DS-Course)\n",
    "* [Kaggle - Competitions](https://www.kaggle.com/competitions)\n"
   ]
  }
 ],
 "metadata": {
  "kernelspec": {
   "display_name": "Python 3 (ipykernel)",
   "language": "python",
   "name": "python3"
  },
  "language_info": {
   "codemirror_mode": {
    "name": "ipython",
    "version": 3
   },
   "file_extension": ".py",
   "mimetype": "text/x-python",
   "name": "python",
   "nbconvert_exporter": "python",
   "pygments_lexer": "ipython3",
   "version": "3.8.10"
  }
 },
 "nbformat": 4,
 "nbformat_minor": 5
}
